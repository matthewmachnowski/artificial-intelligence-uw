{
  "nbformat": 4,
  "nbformat_minor": 0,
  "metadata": {
    "kernelspec": {
      "display_name": "Python 3",
      "language": "python",
      "name": "python3"
    },
    "language_info": {
      "codemirror_mode": {
        "name": "ipython",
        "version": 3
      },
      "file_extension": ".py",
      "mimetype": "text/x-python",
      "name": "python",
      "nbconvert_exporter": "python",
      "pygments_lexer": "ipython3",
      "version": "3.6.3"
    },
    "colab": {
      "name": "Taxi_search - Mateusz Machnowski.ipynb",
      "provenance": [],
      "collapsed_sections": [
        "Vtj27gZYgh6u",
        "FOf_8CtOgh6w",
        "1vrReKwJgh6y",
        "IQvWuXKYgh6z",
        "HHTZY36egh60",
        "e9OHbYHTgh61",
        "a2K7MD6Ogh62",
        "kGoSjaj9gh64",
        "2_jeLSnKgh65",
        "L-k4ow15gh7B",
        "98oGpaPIgh7C",
        "vcDMZddEgh7D",
        "zfxq25-qgh7G",
        "Nntc_KTagh7H",
        "DgpmPy4Fgh7I",
        "8vyGBwj3gh7J",
        "bti6wy5dgh7J",
        "ipkMFxzBgh7K",
        "GfvN_Rmngh7M",
        "_OplpqhVgh7M"
      ]
    }
  },
  "cells": [
    {
      "cell_type": "markdown",
      "metadata": {
        "id": "zahPu45Xgh6W"
      },
      "source": [
        "# Zadanie 1 – rozwiązanie Taxi metodą przeszukiwania\n",
        "Zacznijmy od zainstalowania i zaimportowania potrzebnych bibliotek."
      ]
    },
    {
      "cell_type": "code",
      "metadata": {
        "id": "3opK--QAgh6i"
      },
      "source": [
        "try:\n",
        "    import gym\n",
        "except:\n",
        "    !pip install gym"
      ],
      "execution_count": null,
      "outputs": []
    },
    {
      "cell_type": "code",
      "metadata": {
        "id": "YWJEdvaOgh6k",
        "colab": {
          "base_uri": "https://localhost:8080/"
        },
        "outputId": "210faa26-daf4-428e-bd68-15fe091bb40c"
      },
      "source": [
        "data_url = 'https://www.mimuw.edu.pl/~mm319369/priv/d73890416bec03ff3e2b3756af8c941c/task1-data.zip'\n",
        "\n",
        "def download_zip(url):\n",
        "    from zipfile import ZipFile\n",
        "    try:\n",
        "        from urllib import urlretrieve\n",
        "    except:\n",
        "        from urllib.request import urlretrieve\n",
        "    from tempfile import mktemp\n",
        "\n",
        "    filename = mktemp('.zip')\n",
        "    name, hdrs = urlretrieve(data_url, filename)\n",
        "    thefile = ZipFile(filename)\n",
        "    thefile.extractall('')\n",
        "    thefile.close()\n",
        "    \n",
        "import os\n",
        "\n",
        "if not os.path.exists('taxi_custom.py'):\n",
        "    download_zip(data_url)\n",
        "    print(\"Done downloading\")\n",
        "else:\n",
        "    print(\"Files already exist\")"
      ],
      "execution_count": null,
      "outputs": [
        {
          "output_type": "stream",
          "text": [
            "Files already exist\n"
          ],
          "name": "stdout"
        }
      ]
    },
    {
      "cell_type": "code",
      "metadata": {
        "deletable": false,
        "editable": false,
        "nbgrader": {
          "checksum": "6d06f92099f8dc30102af78e6c14dd03",
          "grade": false,
          "grade_id": "load1",
          "locked": true,
          "schema_version": 1,
          "solution": false
        },
        "id": "UwcDW4PLgh6l"
      },
      "source": [
        "import gym\n",
        "from __future__ import print_function"
      ],
      "execution_count": null,
      "outputs": []
    },
    {
      "cell_type": "code",
      "metadata": {
        "deletable": false,
        "editable": false,
        "nbgrader": {
          "checksum": "023b6c6769c453a850fd1ccb30ccb1b1",
          "grade": false,
          "grade_id": "load2",
          "locked": true,
          "schema_version": 1,
          "solution": false
        },
        "id": "fH61bFtFgh6m"
      },
      "source": [
        "from taxi_custom import TaxiBuilder\n",
        "TB = TaxiBuilder()"
      ],
      "execution_count": null,
      "outputs": []
    },
    {
      "cell_type": "markdown",
      "metadata": {
        "id": "xmdWghAfgh6m"
      },
      "source": [
        "## Obiektowość w Pythonie\n",
        "Poniższe kody wykorzystują obiektowość w Pythonie. Nie różni się wiele od Javy poza tym, że nie trzeba podawać typów. Krótki przewodnik możecie znaleźć w materiałach [Wydziału Fizyki](http://brain.fuw.edu.pl/edu/index.php/TI/Wstęp_do_programowania_obiektowego).\n",
        "\n",
        "W skrócie, przykładowy kod wygląda tak:\n",
        "```python\n",
        "class Kot(object):\n",
        "    \"\"\"Dokumentacja klasy.\"\"\"\n",
        "    \n",
        "    dzwiek = 'miau' # Domyślna wartość pola w klasie.\n",
        "    \n",
        "    def __init__(self, wiek):\n",
        "        \"\"\"Dokumentacja metody.\n",
        "           __init__ to konstruktor. Pierwszy argument to zawsze self -- obiekt naszej klasy.\"\"\"\n",
        "        self.wiek = wiek # Do pól klasy odwołujemy się zawsze przez self!\n",
        "        \n",
        "    def daj_glos(self):\n",
        "        print(self.dzwiek)\n",
        "        \n",
        "    def daj_n_glosow(self, n):\n",
        "        for i in range(n):\n",
        "            # Wołając metodę klasy nie podajemy argumentu self jako parametru -- jest on domyślny.\n",
        "            self.daj_glos() \n",
        "        \n",
        "    def lataj(self):\n",
        "        raise NotImplementedError # Rzucanie wyjątku; standardowy sposób na placeholder do implementacji.\n",
        "        \n",
        "# Tworzenie nowego obiektu: nie ma new.\n",
        "kot = Kot(10)\n",
        "# Wywoływanie metody.\n",
        "kot.daj_glos()\n",
        "kot.daj_n_glosow(5)\n",
        "# Mamy dostęp do wszystkich pól (są domyślnie publiczne, dopóki ich nazwa nie zaczyna się od _).\n",
        "# W Pythonie nie używa się getterów/setterów dopóki są trywialne.\n",
        "print(kot.wiek)\n",
        "\n",
        "# Definicja podklasy Kotek dziedziczącej po klasie Kot\n",
        "class Kotek(Kot):\n",
        "    def __init__(self, wiek, kolor):\n",
        "        # Sposób wołania konstruktora nadklasy\n",
        "        super(Kotek, self).__init__(wiek)\n",
        "        # W Pythonie3 po prostu  super().__init__(wiek)\n",
        "        self.kolor = kolor\n",
        "    \n",
        "    # Nadpisanie metody\n",
        "    def lataj(self):\n",
        "        print(\"Nie umiem latac, ale mam kolor %s!\" % self.kolor)\n",
        "        \n",
        "# Tworzenie obiektu\n",
        "kotek = Kotek(10, 'zielony')\n",
        "kotek.lataj()\n",
        "        \n",
        "``` "
      ]
    },
    {
      "cell_type": "markdown",
      "metadata": {
        "id": "D0TFRUQLgh6o"
      },
      "source": [
        "# Klasy problemów\n",
        "\n",
        "`Problem` jest abstrakcyjną klasą wszystkich problemów przeszukiwania. Możesz samodzielnie zdefiniować klasę problemów jako podklasę `Problem`u. Musisz nadpisać metody `actions` i `results`, które opisują, jak wygląda problem. Stany końcowe podajesz albo w konstruktorze w parametrze `goals` albo przez nadpisanie metody `is_goal`. Jeśli akcje mają niejednostkowy koszt, nadpisz metodę `step_cost`."
      ]
    },
    {
      "cell_type": "code",
      "metadata": {
        "deletable": false,
        "editable": false,
        "nbgrader": {
          "checksum": "59abaacbbebd240215cfad5e54b48f4f",
          "grade": false,
          "grade_id": "p",
          "locked": true,
          "schema_version": 1,
          "solution": false
        },
        "id": "0ueS27-4gh6o"
      },
      "source": [
        "class Problem(object):\n",
        "    \"\"\"Abstrakcyjna klasa problemów przeszukiwania.\"\"\"\n",
        "\n",
        "    def __init__(self, initial=None):\n",
        "        \"\"\"Podaj stan początkowy i opcjonalnie stany końcowe.\n",
        "           Podklasy mogą mieć dodatkowe argumenty. Patrz wyżej, jak wywołać konstruktor nadklasy.\"\"\"\n",
        "        self.initial = initial  # Stan początkowy problemu.\n",
        "\n",
        "    def actions(self, state):\n",
        "        \"Zwraca listę akcji ze stanu `state`.\"\n",
        "        raise NotImplementedError # Do napisania w podklasie!\n",
        "\n",
        "    def result(self, state, action):\n",
        "        \"Stan, który jest rezultatem wykonania akcji `action` na stanie `state`.\"\n",
        "        raise NotImplementedError # Do napisania w podklasie!\n",
        "\n",
        "    def is_goal(self, state):\n",
        "        \"Zwraca `True`, gdy stan jest rozwiązaniem.\" \n",
        "        raise NotImplementedError # Do napisania w podklasie!\n",
        "\n",
        "    def step_cost(self, state, action, result=None):\n",
        "        \"Koszt wykonania akcji `action` ze stanu `state`. `result` może być pomocniczne, gdy go znamy.\"\n",
        "        return 1 # Do nadpisania, gdy koszty nie są jednostkowe!"
      ],
      "execution_count": null,
      "outputs": []
    },
    {
      "cell_type": "markdown",
      "metadata": {
        "id": "Gv01KiOLgh6q"
      },
      "source": [
        "## Przykładowy problem: robot sprzątający\n",
        "Poniżej znajduje się przykładowa implementacja klasy `Problem`.\n",
        "\n",
        "Jest to problem robota sprzątającego, jak na ćwiczeniach.\n",
        "\n",
        "Dwa pomieszczenia, każde może być zakurzone, bądź nie. Ruchy to \"jedź w prawo\", \"jedź w lewo\" i \"sprzątaj\"; wszystkie o koszczie 1."
      ]
    },
    {
      "cell_type": "code",
      "metadata": {
        "id": "Wh2M8F_wgh6r"
      },
      "source": [
        "dirt  = '*'\n",
        "clean = ' '\n",
        "\n",
        "class TwoLocationVacuumProblem(Problem):\n",
        "    \"\"\"Robot sprządający ma świat z dwiema lokacjami i kurzem.\n",
        "       Stany wyglądają następująco (pozycja, kurz_w_L, kurz_w_P).\"\"\"\n",
        "\n",
        "    def actions(self, state):\n",
        "        # Zawsze pozwalamay sprzątać.\n",
        "        if state[0] == 'L':\n",
        "            return ('P', 'Sprzataj')\n",
        "        else:\n",
        "            return ('L', 'Sprzataj')\n",
        "    \n",
        "    def is_goal(self, state):\n",
        "        return state[1] != dirt and state[2] != dirt\n",
        " \n",
        "    def result(self, state, action):\n",
        "        \"Stan, który jest rezultatem wykonania akcji `action` na stanie `state`.\"\n",
        "        (loc, dirtL, dirtP) = state\n",
        "        if   action == 'L':                       return ('L', dirtL, dirtP)\n",
        "        elif action == 'P':                       return ('P', dirtL, dirtP)\n",
        "        elif action == 'Sprzataj' and loc == 'L': return (loc, clean, dirtP)\n",
        "        elif action == 'Sprzataj' and loc == 'P': return (loc, dirtL, clean) \n",
        "        else: raise ValueError('Nieznana akcja: ' + action)"
      ],
      "execution_count": null,
      "outputs": []
    },
    {
      "cell_type": "code",
      "metadata": {
        "id": "0wnTW137gh6r"
      },
      "source": [
        "# Sprawdźmy, jak się zachowuje\n",
        "problem = TwoLocationVacuumProblem(initial=('L',dirt,dirt))"
      ],
      "execution_count": null,
      "outputs": []
    },
    {
      "cell_type": "code",
      "metadata": {
        "id": "rQBubGB3gh6s",
        "colab": {
          "base_uri": "https://localhost:8080/"
        },
        "outputId": "1701227a-a87a-45ed-87fd-b18dbe32d197"
      },
      "source": [
        "state = problem.initial\n",
        "print(\"Stan początkowy:\", state)\n",
        "print(\"Akcje:\", problem.actions(state), \"koniec:\", problem.is_goal(state))\n",
        "# Zobaczmy, jak będą wyglądały rezultaty poszczególnych akcji\n",
        "for action in problem.actions(state):\n",
        "    print(\"Akcja:\", action, \"->\", problem.result(state, action))"
      ],
      "execution_count": null,
      "outputs": [
        {
          "output_type": "stream",
          "text": [
            "Stan początkowy: ('L', '*', '*')\n",
            "Akcje: ('P', 'Sprzataj') koniec: False\n",
            "Akcja: P -> ('P', '*', '*')\n",
            "Akcja: Sprzataj -> ('L', ' ', '*')\n"
          ],
          "name": "stdout"
        }
      ]
    },
    {
      "cell_type": "markdown",
      "metadata": {
        "id": "jImlLSf9gh6s"
      },
      "source": [
        "### Testy\n",
        "Komórki poniższego typu pozwolą na automatyczną weryfikację poprawności rozwiązania.\n",
        "Jeśli nie rzucą wyjątku, oznacza, że (prawdopodobnie) wszystko jest ok.\n",
        "\n",
        "Proszę ich nie modyfikować. Rozwiązania muszą przechodzić wszystkie."
      ]
    },
    {
      "cell_type": "code",
      "metadata": {
        "deletable": false,
        "editable": false,
        "nbgrader": {
          "checksum": "fb79f6c6bcc8e8c91c1ae65c6fcc95ef",
          "grade": true,
          "grade_id": "vaccum",
          "locked": true,
          "points": 0,
          "schema_version": 1,
          "solution": false
        },
        "id": "C_nzGzBmgh6t",
        "colab": {
          "base_uri": "https://localhost:8080/"
        },
        "outputId": "09ff9b1d-d40e-4b80-fa49-34ba2f86b27f"
      },
      "source": [
        "p_test = TwoLocationVacuumProblem(initial=('L',dirt, dirt))\n",
        "assert p_test.actions(p_test.initial) == ('P', 'Sprzataj')\n",
        "l_state = ('L', clean, clean)\n",
        "assert p_test.result(l_state, 'L') == l_state\n",
        "assert p_test.result(l_state, 'P') == ('P', clean, clean)\n",
        "assert p_test.is_goal(p_test.initial) == False\n",
        "assert p_test.is_goal(l_state) == True\n",
        "print(\"Sukces!\")"
      ],
      "execution_count": null,
      "outputs": [
        {
          "output_type": "stream",
          "text": [
            "Sukces!\n"
          ],
          "name": "stdout"
        }
      ]
    },
    {
      "cell_type": "markdown",
      "metadata": {
        "id": "XA7_RUaEgh6t"
      },
      "source": [
        "```\n",
        "\n",
        "\n",
        "\n",
        "\n",
        "\n",
        "\n",
        "\n",
        "```"
      ]
    },
    {
      "cell_type": "markdown",
      "metadata": {
        "id": "6S9e1HLhgh6t"
      },
      "source": [
        "## Zadanie A: Problem znalezienia ścieżki na planszy\n",
        "Oto pierwsza część naszego rozwiązania – określenie problemu. Plan naszego agenta podzielimy na dwie fazy:\n",
        "1. dojechanie do klienta,\n",
        "2. dojechanie do miejsca docelowego.\n",
        "\n",
        "Dlatego nasza implementacja klasy Problem będzie dość ogólna i dotyczyła jedynie znajdywanie trasy na mapie między dwoma punktami. Klasa powinna przyjmować w konstruktorze dodatkowo parametr `board` – planszę z naszego środowiska taksówkowego (`env.env.desc`) i ignorować pozycje punktów R, G, Y i B. Stanami niech będą jedynie współrzędne (`y`, `x`).\n",
        "\n",
        "**Problem nie może odwoływać się do metod środowiska** – powinien być samodzielny i służyć będzie do planowania rozwiązania.\n",
        "\n",
        "\n",
        "Zaimplementuj odpowiednie metody. Zapoznaj się wcześniej z użyciem tej klasy poniżej."
      ]
    },
    {
      "cell_type": "code",
      "metadata": {
        "id": "2tG1wNMCgh6t",
        "colab": {
          "base_uri": "https://localhost:8080/"
        },
        "outputId": "ccfc55d6-370f-4b26-84bd-6359c58c6329"
      },
      "source": [
        "# Przypomnijmy, że pole trzeba sprawdzić porównując z bajtami (prefix b)\n",
        "env_6 = gym.make('Taxi_custom-six-v0')\n",
        "state = env_6.reset()\n",
        "print(\"Akcje:\", env_6.env.actions)\n",
        "board = env_6.env.desc\n",
        "print(board)\n",
        "print(\"Zajęte dobrze:\", board[0][0] == b'x', \"zajęte źle:\", board[0][0] == 'x')"
      ],
      "execution_count": null,
      "outputs": [
        {
          "output_type": "stream",
          "text": [
            "Akcje: ['South', 'North', 'East', 'West', 'Pickup', 'Dropoff']\n",
            "[[b'x' b'x' b'x' b'x' b'x' b'x' b'x' b'x']\n",
            " [b'x' b'R' b'x' b'x' b'x' b'.' b'G' b'x']\n",
            " [b'x' b'.' b'.' b'.' b'.' b'.' b'x' b'x']\n",
            " [b'x' b'.' b'.' b'x' b'x' b'.' b'x' b'x']\n",
            " [b'x' b'.' b'.' b'.' b'.' b'.' b'x' b'x']\n",
            " [b'x' b'.' b'x' b'x' b'x' b'x' b'x' b'x']\n",
            " [b'x' b'Y' b'.' b'.' b'.' b'.' b'B' b'x']\n",
            " [b'x' b'x' b'x' b'x' b'x' b'x' b'x' b'x']]\n",
            "Zajęte dobrze: True zajęte źle: False\n"
          ],
          "name": "stdout"
        }
      ]
    },
    {
      "cell_type": "code",
      "metadata": {
        "deletable": false,
        "nbgrader": {
          "checksum": "f3c71f040abfbd3c83aa1f711b3721e2",
          "grade": false,
          "grade_id": "pf",
          "locked": false,
          "schema_version": 1,
          "solution": true
        },
        "id": "GvLX4Rb4gh6u"
      },
      "source": [
        "class PathFindingProblem(Problem):\n",
        "    \"\"\"Klasa do znajdywania ścieżki na mapie.\"\"\"\n",
        "\n",
        "    def __init__(self, initial, goal, board):\n",
        "        \"\"\"Parametry:\n",
        "           - initial: wsp. początkowa (y,x),\n",
        "           - goal: wsp. końcowe (y,x),\n",
        "           - board: plansza.\"\"\"\n",
        "        \n",
        "        super(PathFindingProblem, self).__init__(initial)\n",
        "        self.goal = goal\n",
        "        # YOUR CODE HERE \n",
        "        self.board = board\n",
        "\n",
        "    def actions(self, state):\n",
        "        \"\"\"Zwraca listę akcji ze stanu `state`.\n",
        "           Powinny łatwo tłumaczyć się na akcje w środowisku taksówki.\"\"\"\n",
        "        # YOUR CODE HERE\n",
        "        directions = ['South', 'North', 'East', 'West']\n",
        "        wyn = list()\n",
        "        # Miałem zamiar zastąpić elif instrukcją match-case, natomiat nie wiem czy została już wprowadzona do pythona \n",
        "        # (tutaj instrukcja ta mi nie działała).\n",
        "        for direction in directions:\n",
        "          if direction == 'South':\n",
        "            p_y = state[0] + 1\n",
        "            p_x = state[1]\n",
        "          elif direction == 'North':\n",
        "            p_y = state[0] - 1\n",
        "            p_x = state[1]\n",
        "          elif direction == 'East':\n",
        "            p_y = state[0]\n",
        "            p_x = state[1] + 1\n",
        "          elif direction == 'West': \n",
        "            p_y = state[0]\n",
        "            p_x = state[1] - 1\n",
        "\n",
        "          if ((direction == 'South') and\n",
        "             (self.board[p_y][p_x] != b'x')):\n",
        "            wyn.append(0)\n",
        "          elif ((direction == 'North') and\n",
        "               (self.board[p_y][p_x] != b'x')):\n",
        "            wyn.append(1)\n",
        "          elif ((direction == 'East') and\n",
        "               (self.board[p_y][p_x] != b'x')):\n",
        "            wyn.append(2)\n",
        "          elif ((direction == 'West') and\n",
        "               (self.board[p_y][p_x] != b'x')):\n",
        "            wyn.append(3)\n",
        "        return(wyn)\n",
        "        \n",
        "    def result(self, state, action):\n",
        "        \"Stan, który jest rezultatem wykonania akcji `action` na stanie `state`.\"\n",
        "        # YOUR CODE HERE\n",
        "        (y, x) = state\n",
        "        if action == 0:\n",
        "            y += 1\n",
        "        elif action == 1:\n",
        "            y -= 1\n",
        "        elif action == 2:\n",
        "            x += 1\n",
        "        elif action == 3:\n",
        "            x -= 1\n",
        "        else:\n",
        "          raise ValueError(\"Nieznana akcja: \" + action)\n",
        "        return (y, x)\n",
        "\n",
        "    def is_goal(self, state):\n",
        "        \"Zwraca `True`, gdy stan jest rozwiązaniem.\" \n",
        "        return state == self.goal # Mamy jeden stan docelowy\n",
        "\n",
        "    def step_cost(self, state, action, result=None):\n",
        "        \"Koszt wykonania akcji `action` ze stanu `state`. `result` może być pomocniczne, gdy go znamy.\"\n",
        "        # CODE\n",
        "        return 1"
      ],
      "execution_count": null,
      "outputs": []
    },
    {
      "cell_type": "markdown",
      "metadata": {
        "id": "Vtj27gZYgh6u"
      },
      "source": [
        "### W poniższych komórkach możesz potestować działanie tej klasy"
      ]
    },
    {
      "cell_type": "code",
      "metadata": {
        "id": "V7k4Puk0gh6v"
      },
      "source": [
        "# Zadanie: dojechać z (3,2) do (1,1) [R]\n",
        "problem = PathFindingProblem((3,2), (1,1), env_6.env.desc)"
      ],
      "execution_count": null,
      "outputs": []
    },
    {
      "cell_type": "code",
      "metadata": {
        "id": "Ts6sP6b-gh6v",
        "colab": {
          "base_uri": "https://localhost:8080/"
        },
        "outputId": "56de9cfc-68bd-4d4d-9894-48dfab9f3bae"
      },
      "source": [
        "state = problem.initial\n",
        "print(\"Początkowy:\", state)\n",
        "print(\"Akcje ze stanu początkowego\", problem.actions(state))"
      ],
      "execution_count": null,
      "outputs": [
        {
          "output_type": "stream",
          "text": [
            "Początkowy: (3, 2)\n",
            "Akcje ze stanu początkowego [0, 1, 3]\n"
          ],
          "name": "stdout"
        }
      ]
    },
    {
      "cell_type": "code",
      "metadata": {
        "id": "WDLgyMLCgh6v",
        "colab": {
          "base_uri": "https://localhost:8080/"
        },
        "outputId": "bc468093-aa13-47f7-ef3d-ed05fc0d4b14"
      },
      "source": [
        "print(\"Akcje ze stanu (1,1):\", problem.actions((1,1)))"
      ],
      "execution_count": null,
      "outputs": [
        {
          "output_type": "stream",
          "text": [
            "Akcje ze stanu (1,1): [0]\n"
          ],
          "name": "stdout"
        }
      ]
    },
    {
      "cell_type": "code",
      "metadata": {
        "id": "tr_DYbhzgh6w",
        "colab": {
          "base_uri": "https://localhost:8080/"
        },
        "outputId": "4e6d50d6-853a-489b-864d-d2598177bb0a"
      },
      "source": [
        "print(\"Czy dojście do (1,1) jest rozwiązaniem?\", problem.is_goal((1,1)))\n",
        "print(\"Następny stan po startowym:\", problem.result(state, problem.actions(state)[0]))"
      ],
      "execution_count": null,
      "outputs": [
        {
          "output_type": "stream",
          "text": [
            "Czy dojście do (1,1) jest rozwiązaniem? True\n",
            "Następny stan po startowym: (4, 2)\n"
          ],
          "name": "stdout"
        }
      ]
    },
    {
      "cell_type": "code",
      "metadata": {
        "id": "OsTpHgLQgh6w"
      },
      "source": [
        "# Miejsce na Twoje zabawy"
      ],
      "execution_count": null,
      "outputs": []
    },
    {
      "cell_type": "code",
      "metadata": {
        "id": "ziRGrYb1gh6w"
      },
      "source": [
        "# Użyj +, by dodać nowe komórki"
      ],
      "execution_count": null,
      "outputs": []
    },
    {
      "cell_type": "markdown",
      "metadata": {
        "id": "FOf_8CtOgh6w"
      },
      "source": [
        "### Testy jednostkowe PathFindingProblem\n",
        "(Nie wnikające w szczegóły implementacji i dobór akcji.)"
      ]
    },
    {
      "cell_type": "code",
      "metadata": {
        "deletable": false,
        "editable": false,
        "nbgrader": {
          "checksum": "f755a5e1178e0a279894e2a210f87677",
          "grade": true,
          "grade_id": "pf1",
          "locked": true,
          "points": 1,
          "schema_version": 1,
          "solution": false
        },
        "id": "47knuFLJgh6x",
        "colab": {
          "base_uri": "https://localhost:8080/"
        },
        "outputId": "7f8cbf6d-f5eb-4627-fe0b-39fbdfa27ee9"
      },
      "source": [
        "# Koszt jest jednostkowy itp.\n",
        "fr = 6, 1\n",
        "to = 6, 6\n",
        "_, env_6 = TB.get_instance(6)\n",
        "p_test = PathFindingProblem(fr, to, env_6.env.desc)\n",
        "\n",
        "assert isinstance(p_test, Problem)\n",
        "for a in p_test.actions(fr):\n",
        "    r = p_test.result(fr, a)\n",
        "    if r != fr:\n",
        "        assert p_test.step_cost(fr, a, r) == 1\n",
        "print(\"Sukces!\")"
      ],
      "execution_count": null,
      "outputs": [
        {
          "output_type": "stream",
          "text": [
            "Sukces!\n"
          ],
          "name": "stdout"
        }
      ]
    },
    {
      "cell_type": "code",
      "metadata": {
        "deletable": false,
        "editable": false,
        "nbgrader": {
          "checksum": "d47e154bc22e89fde7d0d0f30e17fb26",
          "grade": true,
          "grade_id": "pf2",
          "locked": true,
          "points": 1,
          "schema_version": 1,
          "solution": false
        },
        "id": "2fsfwp9Bgh6x",
        "colab": {
          "base_uri": "https://localhost:8080/"
        },
        "outputId": "070ea7f0-6538-4700-c407-b5eea4226ef3"
      },
      "source": [
        "# Akcje coś znaczą – między sąsiednimi polami istnieją akcje które między nimi prowadzą\n",
        "# Oraz nie wchodzimy w ścianę\n",
        "fr = 5, 1\n",
        "to = 6, 1\n",
        "_, env_6 = TB.get_instance(6)\n",
        "p_test = PathFindingProblem(fr, to, env_6.env.desc)\n",
        "\n",
        "ok = False\n",
        "for a in p_test.actions(fr):\n",
        "    r = p_test.result(fr, a)\n",
        "    assert r not in ((5,0),(5,2)), \"Wchodzimy w ścianę\"\n",
        "    if r == to and p_test.is_goal(r):\n",
        "        ok = True\n",
        "assert ok\n",
        "print(\"Sukces!\")"
      ],
      "execution_count": null,
      "outputs": [
        {
          "output_type": "stream",
          "text": [
            "Sukces!\n"
          ],
          "name": "stdout"
        }
      ]
    },
    {
      "cell_type": "code",
      "metadata": {
        "deletable": false,
        "editable": false,
        "nbgrader": {
          "checksum": "0204cdbb2dd5eef14da3b2f918c453d3",
          "grade": true,
          "grade_id": "pf3",
          "locked": true,
          "points": 1,
          "schema_version": 1,
          "solution": false
        },
        "id": "US5QxN_5gh6x",
        "colab": {
          "base_uri": "https://localhost:8080/"
        },
        "outputId": "589907c4-e7ae-4110-e204-a5dbe16660ae"
      },
      "source": [
        "# Między 6,6 a 6,1 istnieje sensowna ścieżka\n",
        "fr = 6, 6\n",
        "to = 6, 1\n",
        "_, env_6 = TB.get_instance(6)\n",
        "p_test = PathFindingProblem(fr, to, env_6.env.desc)\n",
        "\n",
        "st = p_test.initial\n",
        "seen = set()\n",
        "for i in range(10):\n",
        "    seen.add(st)\n",
        "    for a in p_test.actions(st):\n",
        "        r = p_test.result(st, a)\n",
        "        assert p_test.step_cost(st, a, r) == 1\n",
        "        assert p_test.is_goal(r) == (r == to)\n",
        "        if r not in seen:\n",
        "            st = r\n",
        "            break\n",
        "    else:\n",
        "        raise AssertionError(\"Bez ruchu\")\n",
        "    if r == to:\n",
        "        break\n",
        "else:\n",
        "    raise AssertionError(\"Nie znaleziono ścieżki\")\n",
        "print(\"Sukces!\")"
      ],
      "execution_count": null,
      "outputs": [
        {
          "output_type": "stream",
          "text": [
            "Sukces!\n"
          ],
          "name": "stdout"
        }
      ]
    },
    {
      "cell_type": "code",
      "metadata": {
        "deletable": false,
        "editable": false,
        "nbgrader": {
          "checksum": "e630ebb0f0962e64bc010f11b1eedb21",
          "grade": true,
          "grade_id": "cell-955c73bf925262f1",
          "locked": true,
          "points": 1,
          "schema_version": 1,
          "solution": false
        },
        "id": "_rjocJZZgh6y",
        "colab": {
          "base_uri": "https://localhost:8080/"
        },
        "outputId": "52a9d963-f895-46cb-a055-d1ec68433ed9"
      },
      "source": [
        "# Niezależność od zmiennych globalnych\n",
        "_, env_t = TB.get_instance(10)\n",
        "p_test = PathFindingProblem(fr, to, env_t.env.desc)\n",
        "assert len(p_test.actions((2,2))) == 4 # Wszystkie akcje z pola 2,2\n",
        "print(\"Sukces!\")"
      ],
      "execution_count": null,
      "outputs": [
        {
          "output_type": "stream",
          "text": [
            "Sukces!\n"
          ],
          "name": "stdout"
        }
      ]
    },
    {
      "cell_type": "markdown",
      "metadata": {
        "id": "G4YnP0O5gh6y"
      },
      "source": [
        "\n",
        "\n",
        "<br><br><br>"
      ]
    },
    {
      "cell_type": "markdown",
      "metadata": {
        "id": "1vrReKwJgh6y"
      },
      "source": [
        "# Zadanie B: Węzły\n",
        "Węzeł reprezentuje stan w drzewie przeszukiwania. Poza obecnym stanem, wskazuje na stan, z którego do niego przyszliśmy, oraz akcję, jaką tego dokonaliśmy. Pamięta też całkowity koszt dojścia do niego i może jakieś dodatkowe wartości. **Uwaga:** całkowity koszt należy pamiętać w momencie tworzenia węzła i liczenie go nie powinno rekurencyjnie wywoływać żadnej funkcji.\n",
        "\n",
        "W razie potrzeb, możecie rozszerzyć tę klasę o dodatkowe metody/argumenty."
      ]
    },
    {
      "cell_type": "code",
      "metadata": {
        "deletable": false,
        "nbgrader": {
          "checksum": "8e9b89b591b3edaae8c007e4812da8c3",
          "grade": false,
          "grade_id": "node",
          "locked": false,
          "schema_version": 1,
          "solution": true
        },
        "id": "ZdYNugfugh6y"
      },
      "source": [
        "class Node(object):\n",
        "    \"\"\"Węzeł w drzewie przeszukiwania.\n",
        "       Jeśli do tego samego stanu można dojść na dwa sposoby, będą to oddzielne węzły.\"\"\"\n",
        "\n",
        "    def __init__(self, state, previous=None, action=None, step_cost=1):\n",
        "        \"\"\"Tworzy nowy węzeł o stanie `state` na podstawie poprzedniego `previous` po akcji `action`\n",
        "           i koszcie `step_cost`.\n",
        "           Węzeł startowy ma `previous` i `action` równe None.\"\"\"\n",
        "        # YOUR CODE HERE\n",
        "        self.state = state\n",
        "        self.previous = previous\n",
        "        self.action = action\n",
        "        self.step_cost = 0 \n",
        "        if previous != None:\n",
        "          self.step_cost = step_cost + previous.step_cost\n",
        "\n",
        "    def __repr__(self): \n",
        "        \"\"\"Metoda do zwracająca tekstową reprezentację węzła.\n",
        "           Wołana automatycznie, np. gdy zrobimy na nim print().\"\"\"\n",
        "        # YOUR CODE HERE\n",
        "        if self.previous == None:\n",
        "          return repr(\"Obecny stan: \" + str(self.state) + \n",
        "                      \", obecny koszt dojśćia: \" + str(self.step_cost) + \n",
        "                      \", stan poprzednika: \" + \n",
        "                      \"poprzedni stan był stanem początkowym\")\n",
        "        else:\n",
        "          return repr(\"Obecny stan: \" + str(self.state) + \n",
        "                      \", obecny koszt dojśćia: \" + str(self.step_cost) + \n",
        "                      \", stan poprzednika: \" + str(self.previous.state))\n",
        "        \n",
        "    def __lt__(self, other):\n",
        "        \"\"\"Metoda wołana przy porównywaniu dwóch węzłów operatorem <. Zwraca True, gdy self < other.\n",
        "           Przydatna do rozwiązywania remisów.\"\"\"\n",
        "        # YOUR CODE HERE\n",
        "        return self.step_cost < other.step_cost\n",
        "        \n",
        "    def children(self, problem):\n",
        "        \"\"\"Rozwija dany węzeł w danym problemie `problem` i zwraca węzły potomne.\"\"\"\n",
        "        # Hint: self to po prostu obecny obiekt, więc można podać go jako argument do Node(..., self, ...).\n",
        "        # YOUR CODE HERE\n",
        "        wyn = list()\n",
        "        for action in problem.actions(self.state):\n",
        "          wyn.append(Node(problem.result(self.state, action), self, action, 1))\n",
        "        return wyn"
      ],
      "execution_count": null,
      "outputs": []
    },
    {
      "cell_type": "markdown",
      "metadata": {
        "id": "IQvWuXKYgh6z"
      },
      "source": [
        "### W poniższych komórkach możesz potestować działanie tej klasy"
      ]
    },
    {
      "cell_type": "code",
      "metadata": {
        "id": "tHtjnT52gh6z"
      },
      "source": [
        "# Znów, z (3,2) do (1,1)\n",
        "problem = PathFindingProblem((3,2), (1,1), env_6.env.desc)"
      ],
      "execution_count": null,
      "outputs": []
    },
    {
      "cell_type": "code",
      "metadata": {
        "id": "2UIUu6Ljgh6z",
        "colab": {
          "base_uri": "https://localhost:8080/"
        },
        "outputId": "4a874c1b-f8b6-41e9-a4ac-6588a136917c"
      },
      "source": [
        "initial_node = Node(problem.initial)\n",
        "print(\"Węzeł ze stanem początkowym:\", initial_node)"
      ],
      "execution_count": null,
      "outputs": [
        {
          "output_type": "stream",
          "text": [
            "Węzeł ze stanem początkowym: 'Obecny stan: (3, 2), obecny koszt dojśćia: 0, stan poprzednika: poprzedni stan był stanem początkowym'\n"
          ],
          "name": "stdout"
        }
      ]
    },
    {
      "cell_type": "code",
      "metadata": {
        "id": "wxW2-TuLgh6z",
        "colab": {
          "base_uri": "https://localhost:8080/"
        },
        "outputId": "ad95e147-d8ba-4720-d07e-fba7880a399a"
      },
      "source": [
        "print(\"Węzły rozwinięte z (3,2)\")\n",
        "initial_node.children(problem)"
      ],
      "execution_count": null,
      "outputs": [
        {
          "output_type": "stream",
          "text": [
            "Węzły rozwinięte z (3,2)\n"
          ],
          "name": "stdout"
        },
        {
          "output_type": "execute_result",
          "data": {
            "text/plain": [
              "['Obecny stan: (4, 2), obecny koszt dojśćia: 1, stan poprzednika: (3, 2)',\n",
              " 'Obecny stan: (2, 2), obecny koszt dojśćia: 1, stan poprzednika: (3, 2)',\n",
              " 'Obecny stan: (3, 1), obecny koszt dojśćia: 1, stan poprzednika: (3, 2)']"
            ]
          },
          "metadata": {
            "tags": []
          },
          "execution_count": 25
        }
      ]
    },
    {
      "cell_type": "code",
      "metadata": {
        "id": "eTMKdQ2Ogh6z"
      },
      "source": [
        "# Miejsce na Twoje zabawy"
      ],
      "execution_count": null,
      "outputs": []
    },
    {
      "cell_type": "code",
      "metadata": {
        "id": "5CGWavD_gh60"
      },
      "source": [
        "# Użyj +, by dodać nowe komórki"
      ],
      "execution_count": null,
      "outputs": []
    },
    {
      "cell_type": "markdown",
      "metadata": {
        "id": "HHTZY36egh60"
      },
      "source": [
        "### Testy jednostkowe Node\n",
        "(Nie wnikające w szczegóły implementacji i dobór akcji.)"
      ]
    },
    {
      "cell_type": "code",
      "metadata": {
        "deletable": false,
        "editable": false,
        "nbgrader": {
          "checksum": "1dae2d511fa85497ca1225bac7948cb0",
          "grade": true,
          "grade_id": "n1",
          "locked": true,
          "points": 1,
          "schema_version": 1,
          "solution": false
        },
        "id": "dedn1HyFgh60",
        "colab": {
          "base_uri": "https://localhost:8080/"
        },
        "outputId": "0bd9ca73-8c54-401d-f80a-9be0d04f986e"
      },
      "source": [
        "# Poprawność typu funkcji, rozmiar zwracanych danych\n",
        "_, env_6 = TB.get_instance(6)\n",
        "fr = 3, 2\n",
        "to = 1, 1\n",
        "p_test = PathFindingProblem(fr, to, env_6.env.desc)\n",
        "in_test = Node(p_test.initial)\n",
        "chld_test = in_test.children(p_test)\n",
        "assert len(chld_test) >= 3, \"Za mało rozwiniętych węzłów\"\n",
        "assert (chld_test[0] < chld_test[1]) in (True, False), \"Zły typ zwrócony przez __lt__\"\n",
        "print(chld_test)\n",
        "print(\"Sukces!\")"
      ],
      "execution_count": null,
      "outputs": [
        {
          "output_type": "stream",
          "text": [
            "['Obecny stan: (4, 2), obecny koszt dojśćia: 1, stan poprzednika: (3, 2)', 'Obecny stan: (2, 2), obecny koszt dojśćia: 1, stan poprzednika: (3, 2)', 'Obecny stan: (3, 1), obecny koszt dojśćia: 1, stan poprzednika: (3, 2)']\n",
            "Sukces!\n"
          ],
          "name": "stdout"
        }
      ]
    },
    {
      "cell_type": "code",
      "metadata": {
        "deletable": false,
        "editable": false,
        "nbgrader": {
          "checksum": "258f6a801aadb14c25b7974e52445643",
          "grade": true,
          "grade_id": "n2",
          "locked": true,
          "points": 1,
          "schema_version": 1,
          "solution": false
        },
        "id": "hSV4afLygh60",
        "colab": {
          "base_uri": "https://localhost:8080/"
        },
        "outputId": "614613fd-28be-407a-83b4-eeab8bd6caff"
      },
      "source": [
        "# Działanie na problemie Robota\n",
        "p_test = TwoLocationVacuumProblem(('L', dirt, dirt))\n",
        "in_test = Node(p_test.initial)\n",
        "chld_test = in_test.children(p_test)\n",
        "assert len(chld_test) == 2, \"Powinny być dwa węzły rozwinięte z początkowego\"\n",
        "print(chld_test)\n",
        "print(\"Sukces!\")"
      ],
      "execution_count": null,
      "outputs": [
        {
          "output_type": "stream",
          "text": [
            "[\"Obecny stan: ('P', '*', '*'), obecny koszt dojśćia: 1, stan poprzednika: ('L', '*', '*')\", \"Obecny stan: ('L', ' ', '*'), obecny koszt dojśćia: 1, stan poprzednika: ('L', '*', '*')\"]\n",
            "Sukces!\n"
          ],
          "name": "stdout"
        }
      ]
    },
    {
      "cell_type": "markdown",
      "metadata": {
        "id": "2qwoIld9gh61"
      },
      "source": [
        "<br><br><br>"
      ]
    },
    {
      "cell_type": "markdown",
      "metadata": {
        "id": "e9OHbYHTgh61"
      },
      "source": [
        "# Kolejki\n",
        "Kolejka jest kolekcją `Węzłów`, która zwraca je przyjmuje oraz zwraca w odpowiedniej kolejności. Poniżej znajduje się ogólna klasa kolejki wraz z opisanymi metodami. Pozostałe kolejki też już są zaimplementowane.\n",
        "\n",
        "Kolejka FIFO zwraca elementy zgodnie z kolejnością wstawiania. Priorytetowa natomiast, zgodnie z priorytetami... Przedstawiono dwie po implementacje: wydajne i naiwne wraz z przykładem użycia.\n",
        "\n",
        "**Kolejki nie implementują zmian, które dodaliśmy na zajęciach. Modyfikacje zachowania typu pomijanie odwiedzonych stanów proszę implementować w metodzie ``search`` niżej.**"
      ]
    },
    {
      "cell_type": "code",
      "metadata": {
        "deletable": false,
        "editable": false,
        "nbgrader": {
          "checksum": "b4f9a824b22175139c5490bc533292cd",
          "grade": false,
          "grade_id": "q",
          "locked": true,
          "schema_version": 1,
          "solution": false
        },
        "id": "kKZj9s3Cgh61"
      },
      "source": [
        "class AbstractQueue(object):\n",
        "    \"\"\"Ogólna klasa kolejek.\"\"\"\n",
        "    \n",
        "    def __init__(self):\n",
        "        \"\"\"Inicjalizuje kolejkę.\"\"\"\n",
        "        raise NotImplementedError\n",
        "        \n",
        "    def add(self, node):\n",
        "        \"\"\"Dodaje węzeł `node` do kolejki.\"\"\"\n",
        "        raise NotImplementedError\n",
        "        \n",
        "    def pop(self):\n",
        "        \"\"\"Zwraca następny element z kolejki wedle strategii.\"\"\"\n",
        "        raise NotImplementedError\n",
        "        \n",
        "    def __len__(self):\n",
        "        \"\"\"Zwraca liczbę węzłów w kolejce. Wołana przez użycie len(obiekt).\"\"\"\n",
        "        raise NotImplementedError"
      ],
      "execution_count": null,
      "outputs": []
    },
    {
      "cell_type": "code",
      "metadata": {
        "deletable": false,
        "editable": false,
        "nbgrader": {
          "checksum": "76a7da59f88506de0585b0d5a712b43d",
          "grade": false,
          "grade_id": "fifo",
          "locked": true,
          "schema_version": 1,
          "solution": false
        },
        "id": "AHAFD36Kgh61"
      },
      "source": [
        "from collections import deque\n",
        "\n",
        "class FIFOQueue(AbstractQueue):\n",
        "    def __init__(self):\n",
        "        self.queue = deque()\n",
        "        \n",
        "    def add(self, node):\n",
        "        self.queue.append(node)\n",
        "        \n",
        "    def pop(self):\n",
        "        return self.queue.popleft()\n",
        "        \n",
        "    def __len__(self):\n",
        "        return len(self.queue)\n",
        "\n",
        "class SlowFIFOQueue(AbstractQueue):\n",
        "    def __init__(self):\n",
        "        self.queue = []\n",
        "        \n",
        "    def add(self, node):\n",
        "        self.queue.append(node)\n",
        "        \n",
        "    def pop(self):\n",
        "        node = self.queue[0]\n",
        "        self.queue = self.queue[1:]\n",
        "        return node\n",
        "        \n",
        "    def __len__(self):\n",
        "        return len(self.queue)"
      ],
      "execution_count": null,
      "outputs": []
    },
    {
      "cell_type": "code",
      "metadata": {
        "deletable": false,
        "editable": false,
        "nbgrader": {
          "checksum": "53a2954a77cbf44389f1e7b292fa9492",
          "grade": false,
          "grade_id": "pq",
          "locked": true,
          "schema_version": 1,
          "solution": false
        },
        "id": "OF_grZw8gh62"
      },
      "source": [
        "import heapq\n",
        "\n",
        "class PriorityQueue(AbstractQueue):\n",
        "    \"\"\"Kolejka priorytetowa. Priorytet ustalany jest przez funkcję kosztu.\n",
        "       Złożoność czasowa to O(n log n), gdzie n to liczba elementów wstawianych/wyjmowanych.\n",
        "    \"\"\"\n",
        "    \n",
        "    def __init__(self, costfn):\n",
        "        \"\"\"Inicjalizuje kolejkę.\n",
        "           `costfn` : None -> int - jest funkcją kosztu, która przyjmuje węzeł i zwraca dla niego priorytet.\"\"\"\n",
        "        self.heap   = []\n",
        "        self.costfn = costfn\n",
        "    \n",
        "    def add(self, node):\n",
        "        \"\"\"Dodaje węzeł `node` do kolejki.\"\"\"\n",
        "        cost = self.costfn(node)\n",
        "        heapq.heappush(self.heap, (cost, node))\n",
        "        \n",
        "    def pop(self):\n",
        "        \"\"\"Zwraca element z kolejki o najmniejszej wartości funkcji kosztu.\"\"\"\n",
        "        (cost, node) = heapq.heappop(self.heap)\n",
        "        return node\n",
        "    \n",
        "    def __len__(self):\n",
        "        \"\"\"Zwraca liczbę węzłów w kolejce. Wołana przez użycie len(obiekt).\"\"\"\n",
        "        return len(self.heap)\n",
        "\n",
        "class SlowPriorityQueue(AbstractQueue):\n",
        "    \"\"\"Kolejka o złożoności czasowej O(n^2), gdzie n to liczba elementów wstawianych/wyjmowanych.\"\"\"\n",
        "    \n",
        "    def __init__(self, costfn):\n",
        "        self.queue   = []\n",
        "        self.costfn = costfn\n",
        "    \n",
        "    def add(self, node):\n",
        "        cost = self.costfn(node)\n",
        "        self.queue.append((cost, node))\n",
        "        \n",
        "    def pop(self):\n",
        "        (cost, node) = min(self.queue)\n",
        "        self.queue.remove((cost,node))\n",
        "        return node\n",
        "    \n",
        "    def __len__(self):\n",
        "        return len(self.queue)"
      ],
      "execution_count": null,
      "outputs": []
    },
    {
      "cell_type": "markdown",
      "metadata": {
        "id": "a2K7MD6Ogh62"
      },
      "source": [
        "### W poniższych komórkach możesz potestować działanie tej klasy"
      ]
    },
    {
      "cell_type": "code",
      "metadata": {
        "id": "gfQao1r6gh62"
      },
      "source": [
        "problem = PathFindingProblem((3,2), (1,1), env_6.env.desc)\n",
        "# Węzeł ze stanem początkowym\n",
        "initial_node = Node(problem.initial)"
      ],
      "execution_count": null,
      "outputs": []
    },
    {
      "cell_type": "code",
      "metadata": {
        "id": "1QNsHA-cgh62",
        "colab": {
          "base_uri": "https://localhost:8080/"
        },
        "outputId": "c2aacb4d-b3cd-4c6d-ec07-f3534b75e2ec"
      },
      "source": [
        "# Dodajemy do kolejki FIFO rozwinięcia pierwszego węzła\n",
        "queue = FIFOQueue()\n",
        "queue.add(initial_node)\n",
        "print(len(queue))\n",
        "node = queue.pop()\n",
        "for n in node.children(problem):\n",
        "    queue.add(n)\n",
        "while queue:\n",
        "    print(queue.pop())"
      ],
      "execution_count": null,
      "outputs": [
        {
          "output_type": "stream",
          "text": [
            "1\n",
            "'Obecny stan: (4, 2), obecny koszt dojśćia: 1, stan poprzednika: (3, 2)'\n",
            "'Obecny stan: (2, 2), obecny koszt dojśćia: 1, stan poprzednika: (3, 2)'\n",
            "'Obecny stan: (3, 1), obecny koszt dojśćia: 1, stan poprzednika: (3, 2)'\n"
          ],
          "name": "stdout"
        }
      ]
    },
    {
      "cell_type": "code",
      "metadata": {
        "id": "BvOIi-xtgh63",
        "colab": {
          "base_uri": "https://localhost:8080/"
        },
        "outputId": "2ce60346-8110-4c04-9058-e11bf7a991be"
      },
      "source": [
        "def costfn(node):\n",
        "    return 5 # Losowy rzut kostką. Napisz coś sensownego\n",
        "\n",
        "# Dodajemy do kolejki priorytetowej rozwinięcia pierwszego węzła\n",
        "queue = PriorityQueue(costfn)\n",
        "queue.add(initial_node)\n",
        "print(len(queue))\n",
        "node = queue.pop()\n",
        "for n in node.children(problem):\n",
        "    queue.add(n)\n",
        "while queue:\n",
        "    print(queue.pop())"
      ],
      "execution_count": null,
      "outputs": [
        {
          "output_type": "stream",
          "text": [
            "1\n",
            "'Obecny stan: (4, 2), obecny koszt dojśćia: 1, stan poprzednika: (3, 2)'\n",
            "'Obecny stan: (2, 2), obecny koszt dojśćia: 1, stan poprzednika: (3, 2)'\n",
            "'Obecny stan: (3, 1), obecny koszt dojśćia: 1, stan poprzednika: (3, 2)'\n"
          ],
          "name": "stdout"
        }
      ]
    },
    {
      "cell_type": "code",
      "metadata": {
        "id": "vgTjF7RIgh63"
      },
      "source": [
        "# Miejsce na Twoje zabawy"
      ],
      "execution_count": null,
      "outputs": []
    },
    {
      "cell_type": "code",
      "metadata": {
        "id": "72dkEosIgh63"
      },
      "source": [
        "# Użyj +, by dodać nowe komórki"
      ],
      "execution_count": null,
      "outputs": []
    },
    {
      "cell_type": "markdown",
      "metadata": {
        "id": "kGoSjaj9gh64"
      },
      "source": [
        "### Testy jednostkowe Kolejek\n",
        "(Nie wnikające w szczegóły implementacji i dobór akcji.)"
      ]
    },
    {
      "cell_type": "code",
      "metadata": {
        "deletable": false,
        "editable": false,
        "nbgrader": {
          "checksum": "9763d3bb1714bfe7e69fe195ebb19feb",
          "grade": true,
          "grade_id": "q1",
          "locked": true,
          "points": 0,
          "schema_version": 1,
          "solution": false
        },
        "id": "Lsk9o1Kmgh64",
        "colab": {
          "base_uri": "https://localhost:8080/"
        },
        "outputId": "ba2523f1-4ad5-4435-a555-c9c8608061c2"
      },
      "source": [
        "# Wrzuć do kolejki rozwinięcie węzła początkowego i wyjmij w odpowiedniej kolejności\n",
        "\n",
        "def test_fifo(q_test_cls):\n",
        "    _, env_6 = TB.get_instance(6)\n",
        "    fr = 3, 2\n",
        "    to = 1, 1\n",
        "    p_test = PathFindingProblem(fr, to, env_6.env.desc)\n",
        "    in_test = Node(p_test.initial)\n",
        "    q_test = q_test_cls()\n",
        "    q_test.add(in_test)\n",
        "    assert len(q_test) == 1\n",
        "    n_test = q_test.pop()\n",
        "    assert n_test is in_test, \"To nie jest ten sam obiekt\"\n",
        "    assert len(q_test) == 0\n",
        "    chld_test = in_test.children(p_test)\n",
        "\n",
        "    for n in chld_test:\n",
        "        q_test.add(n)\n",
        "    assert len(q_test) >= 3\n",
        "\n",
        "    for n in chld_test:\n",
        "        assert n is q_test.pop(), \"Zła kolejkość lub to nie jest ten sam obiekt, który wsadziliśmy\"\n",
        "\n",
        "test_fifo(FIFOQueue)\n",
        "test_fifo(SlowFIFOQueue)\n",
        "print(\"Sukces!\")"
      ],
      "execution_count": null,
      "outputs": [
        {
          "output_type": "stream",
          "text": [
            "Sukces!\n"
          ],
          "name": "stdout"
        }
      ]
    },
    {
      "cell_type": "code",
      "metadata": {
        "deletable": false,
        "editable": false,
        "nbgrader": {
          "checksum": "1742afd3b817cc34d69f48efd7e78481",
          "grade": true,
          "grade_id": "q2",
          "locked": true,
          "points": 0,
          "schema_version": 1,
          "solution": false
        },
        "id": "dNHiCPodgh64",
        "colab": {
          "base_uri": "https://localhost:8080/"
        },
        "outputId": "b4bc28ca-f0ca-46cd-f85f-1f59450add7e"
      },
      "source": [
        "# Wrzuć do kolejki priorytetowej rozwinięcie węzła początkowego i wyjmij w odrotnej kolejności\n",
        "def test_priority(q_test_cls):\n",
        "    _, env_6 = TB.get_instance(6)\n",
        "    fr = 3, 2\n",
        "    to = 1, 1\n",
        "    p_test = PathFindingProblem(fr, to, env_6.env.desc)\n",
        "    in_test = Node(p_test.initial)\n",
        "\n",
        "    prio_test = 15\n",
        "    def cost_test(node):\n",
        "        nonlocal prio_test\n",
        "        prio_test -= 1\n",
        "        return prio_test\n",
        "\n",
        "    q_test = q_test_cls(cost_test)\n",
        "    q_test.add(in_test)\n",
        "    assert len(q_test) == 1\n",
        "    n_test = q_test.pop()\n",
        "    assert n_test is in_test, \"To nie jest ten sam obiekt\"\n",
        "    assert len(q_test) == 0\n",
        "\n",
        "    chld_test = in_test.children(p_test)\n",
        "\n",
        "    for n in chld_test:\n",
        "        q_test.add(n)\n",
        "    assert len(q_test) >= 3\n",
        "\n",
        "    for n in reversed(chld_test):\n",
        "        assert n is q_test.pop(), \"Zła kolejność lub to nie jest ten sam obiekt, który wsadziliśmy\"\n",
        "        \n",
        "test_priority(PriorityQueue)\n",
        "test_priority(SlowPriorityQueue)\n",
        "print(\"Sukces!\")"
      ],
      "execution_count": null,
      "outputs": [
        {
          "output_type": "stream",
          "text": [
            "Sukces!\n"
          ],
          "name": "stdout"
        }
      ]
    },
    {
      "cell_type": "markdown",
      "metadata": {
        "id": "Jp2_VC1Wgh65"
      },
      "source": [
        "<br><br><br>"
      ]
    },
    {
      "cell_type": "markdown",
      "metadata": {
        "id": "2_jeLSnKgh65"
      },
      "source": [
        "# Zadanie C: Algorytm przeszukiwania"
      ]
    },
    {
      "cell_type": "code",
      "metadata": {
        "deletable": false,
        "nbgrader": {
          "checksum": "2594bb44d1e4d05891a6e4511042cf51",
          "grade": false,
          "grade_id": "search",
          "locked": false,
          "schema_version": 1,
          "solution": true
        },
        "id": "MkNZNKCigh65"
      },
      "source": [
        "def search(problem, queue):\n",
        "    \"\"\"Algorytm przeszukiwania parametryzowany problemem i obiektem implementującą kolejkę.\n",
        "       Zwraca węzeł reprezentujący stan będący rozwiązaniem.\"\"\"\n",
        "    # Pamiętaj o eliminacji odwiedzonych stanów.\n",
        "    # Używaj odpowiednich metod problemu i kolejki\n",
        "    # YOUR CODE HERE\n",
        "    node = Node(problem.initial)\n",
        "    queue.add(node)\n",
        "    global visited # wykorzystujemy w zadaniu E\n",
        "    global max_len # wykorzystujemy w zadaniu E\n",
        "    visited = list()\n",
        "    visited.append(node.state)\n",
        "    max_len = len(queue)\n",
        "    while not problem.is_goal(node.state):\n",
        "      node = queue.pop()\n",
        "      for n in node.children(problem):\n",
        "       if n.state not in visited:\n",
        "         queue.add(n)\n",
        "         visited.append(n.state)\n",
        "      if len(queue) > max_len:\n",
        "        max_len = len(queue)\n",
        "    return node"
      ],
      "execution_count": null,
      "outputs": []
    },
    {
      "cell_type": "markdown",
      "metadata": {
        "id": "NNgYcIrPgh65"
      },
      "source": [
        "Różne algorytmy przeszukiwania to po prostu parametryzacja ogólnego algorytmu przeszukiwania. Poniższa funkcja nie powinna robić wiele poza użyciem już zdefiniowanych poprzednio."
      ]
    },
    {
      "cell_type": "code",
      "metadata": {
        "id": "lGOna4jdgh66"
      },
      "source": [
        "def BFS(problem):\n",
        "    \"\"\"Algorytm przeszukiwania wszerz używa po prostu kolejki FIFO.\"\"\"\n",
        "    return search(problem, FIFOQueue())"
      ],
      "execution_count": null,
      "outputs": []
    },
    {
      "cell_type": "code",
      "metadata": {
        "deletable": false,
        "nbgrader": {
          "checksum": "97d73f551816d114c7595b0f1a5f2674",
          "grade": false,
          "grade_id": "get_solution",
          "locked": false,
          "schema_version": 1,
          "solution": true
        },
        "id": "gNxVDqEEgh6_"
      },
      "source": [
        "def get_solution(node):\n",
        "    \"\"\"Dostaje węzeł i zwraca listę akcji do wykonania w środowisku Taxi (0-3)\n",
        "       aby dojść ze stanu początkowego do stanu w `node`.\"\"\"\n",
        "    # YOUR CODE HERE\n",
        "    lista_akcji = [node.action]\n",
        "    while node.previous.previous != None:\n",
        "      node = node.previous\n",
        "      lista_akcji.insert(0, node.action)\n",
        "    return lista_akcji"
      ],
      "execution_count": null,
      "outputs": []
    },
    {
      "cell_type": "code",
      "metadata": {
        "id": "GtQ2xVgTgh6_"
      },
      "source": [
        "# Środowisko z mapą rozmiaru 6\n",
        "_, env = TB.get_instance(6)\n",
        "problem = PathFindingProblem((4, 4), (6, 6), env.env.desc)"
      ],
      "execution_count": null,
      "outputs": []
    },
    {
      "cell_type": "code",
      "metadata": {
        "id": "qD5fKhQTgh7A",
        "colab": {
          "base_uri": "https://localhost:8080/"
        },
        "outputId": "6f8407d0-a4d4-44c4-8866-3d8c7b04f2b0"
      },
      "source": [
        "res = BFS(problem)\n",
        "print(\"Rozwiązanie:\", res)\n",
        "print(\"Ruchy:\", get_solution(res))"
      ],
      "execution_count": null,
      "outputs": [
        {
          "output_type": "stream",
          "text": [
            "Rozwiązanie: 'Obecny stan: (6, 6), obecny koszt dojśćia: 10, stan poprzednika: (6, 5)'\n",
            "Ruchy: [3, 3, 3, 0, 0, 2, 2, 2, 2, 2]\n"
          ],
          "name": "stdout"
        }
      ]
    },
    {
      "cell_type": "code",
      "metadata": {
        "id": "GrKGzyCngh7A"
      },
      "source": [
        "# Środowisko z mapą rozmiaru 20 i 100\n",
        "_, env_20 = TB.get_instance(20)\n",
        "problem_20 = PathFindingProblem((5, 3), (20, 1), env_20.env.desc)\n",
        "_, env_100 = TB.get_instance(100)\n",
        "problem_100 = PathFindingProblem((50, 42), (100, 100), env_100.env.desc)"
      ],
      "execution_count": null,
      "outputs": []
    },
    {
      "cell_type": "code",
      "metadata": {
        "id": "Amx8ofJkgh7A",
        "colab": {
          "base_uri": "https://localhost:8080/"
        },
        "outputId": "5e482142-6ecc-478d-e207-5e076d9b7fee"
      },
      "source": [
        "res = BFS(problem_20)\n",
        "print(\"Rozwiązanie:\", res)\n",
        "print(\"Ruchy:\", get_solution(res))"
      ],
      "execution_count": null,
      "outputs": [
        {
          "output_type": "stream",
          "text": [
            "Rozwiązanie: 'Obecny stan: (20, 1), obecny koszt dojśćia: 37, stan poprzednika: (19, 1)'\n",
            "Ruchy: [2, 0, 2, 0, 2, 2, 2, 0, 0, 0, 0, 0, 0, 0, 0, 0, 2, 2, 0, 0, 3, 0, 3, 3, 3, 1, 1, 3, 3, 1, 3, 3, 0, 3, 0, 0, 0]\n"
          ],
          "name": "stdout"
        }
      ]
    },
    {
      "cell_type": "code",
      "metadata": {
        "id": "Kqao7gSngh7A"
      },
      "source": [
        "# Wolne komórki"
      ],
      "execution_count": null,
      "outputs": []
    },
    {
      "cell_type": "markdown",
      "metadata": {
        "deletable": false,
        "editable": false,
        "nbgrader": {
          "checksum": "d6e7f637aead82406b2f78c22d3b845a",
          "grade": false,
          "grade_id": "cell-ee5d3089a5de1c27",
          "locked": true,
          "schema_version": 1,
          "solution": false
        },
        "id": "8qz7bCSYgh7A"
      },
      "source": [
        "Poniższa funkcja może się przydać do sprawdzenia, jak zachowuje się nasz algorytm."
      ]
    },
    {
      "cell_type": "code",
      "metadata": {
        "id": "CXbhN0Bpgh7B"
      },
      "source": [
        "def plot_map(board, path=None, visited=None):\n",
        "    \"\"\"\n",
        "    Funkja pomagająca wyświetlać działanie naszego algorytmu.\n",
        "    \n",
        "    `board`, `path` i `visited` to tablice/listy `n`x`n`,\n",
        "    które mają 1/True w miejscu kolorowania i 0/False w pozostałych.\n",
        "    `board` koloruje ściany na czarno,\n",
        "    `path` -- ścieżkę na czerwono,\n",
        "    `visited` -- odwiedzone stany na niebiesko.\n",
        "    \n",
        "    \"\"\"\n",
        "    import matplotlib.pyplot as plt\n",
        "    import numpy as np\n",
        "    # Ustawia dobre wyświetlanie w Jupyterze/Colaboratory\n",
        "    get_ipython().magic('matplotlib inline')\n",
        "    \n",
        "    size = max(len(board)/10, 5)\n",
        "    plt.figure(figsize=(size,size))\n",
        "    board = np.array(board)\n",
        "    plt.imshow(board, cmap='gray_r', vmin=0, vmax=1)\n",
        "    if visited is not None:\n",
        "        visited = np.clip(np.array(visited) + board, 0, 1)\n",
        "        plt.imshow(visited, cmap='Blues', alpha=0.7, vmin=0, vmax=1)\n",
        "    if path is not None:\n",
        "        plt.imshow(path, cmap='Reds', alpha=0.4, vmin=0, vmax=1)\n",
        "    plt.show()"
      ],
      "execution_count": null,
      "outputs": []
    },
    {
      "cell_type": "code",
      "metadata": {
        "id": "UWkAWzIJgh7B"
      },
      "source": [
        "# Miejsce na Twoje zabawy"
      ],
      "execution_count": null,
      "outputs": []
    },
    {
      "cell_type": "code",
      "metadata": {
        "id": "ZLKeYyApgh7B"
      },
      "source": [
        "# Użyj +, by dodać nowe komórki"
      ],
      "execution_count": null,
      "outputs": []
    },
    {
      "cell_type": "markdown",
      "metadata": {
        "id": "L-k4ow15gh7B"
      },
      "source": [
        "## Testy jednostkowe przeszukiwania"
      ]
    },
    {
      "cell_type": "code",
      "metadata": {
        "deletable": false,
        "editable": false,
        "nbgrader": {
          "checksum": "0b097bcd0982c890248c61a217084906",
          "grade": true,
          "grade_id": "search1",
          "locked": true,
          "points": 3,
          "schema_version": 1,
          "solution": false
        },
        "id": "Txp65ePZgh7C",
        "colab": {
          "base_uri": "https://localhost:8080/"
        },
        "outputId": "7b21101a-9fdf-4b04-dfcc-9a82f15a7528"
      },
      "source": [
        "_, env_6 = TB.get_instance(6)\n",
        "fr = (4, 4)\n",
        "to = (6, 6)\n",
        "p_test = PathFindingProblem(fr, to, env_6.env.desc)\n",
        "\n",
        "res_test = BFS(p_test)\n",
        "assert get_solution(res_test) == [3, 3, 3, 0, 0, 2, 2, 2, 2, 2], \"BFS niepoprawny\"\n",
        "\n",
        "# BFS używa funkcji search - usuwamy ze środowiska\n",
        "old_search_test = search\n",
        "del search\n",
        "try:\n",
        "    BFS(p_test)\n",
        "    assert False, \"BFS nie używa funkcji search\"\n",
        "except NameError:\n",
        "    pass\n",
        "finally:\n",
        "    search = old_search_test\n",
        "\n",
        "print(\"Sukces!\")"
      ],
      "execution_count": null,
      "outputs": [
        {
          "output_type": "stream",
          "text": [
            "Sukces!\n"
          ],
          "name": "stdout"
        }
      ]
    },
    {
      "cell_type": "code",
      "metadata": {
        "deletable": false,
        "editable": false,
        "nbgrader": {
          "checksum": "b72665c2311d01e9769244bf1cbc7e4e",
          "grade": true,
          "grade_id": "cell-904fab18fb5f65ce",
          "locked": true,
          "points": 1,
          "schema_version": 1,
          "solution": false
        },
        "id": "EuMKQl5ggh7C",
        "colab": {
          "base_uri": "https://localhost:8080/"
        },
        "outputId": "b0e62015-50c9-4975-c52f-45db8ed3d042"
      },
      "source": [
        "# Działa też na innych problemach\n",
        "p_test = TwoLocationVacuumProblem(('L', dirt, dirt))\n",
        "res_test = BFS(p_test)\n",
        "assert res_test is not None\n",
        "print(res_test)\n",
        "print(\"Sukces!\")"
      ],
      "execution_count": null,
      "outputs": [
        {
          "output_type": "stream",
          "text": [
            "\"Obecny stan: ('P', ' ', ' '), obecny koszt dojśćia: 3, stan poprzednika: ('P', ' ', '*')\"\n",
            "Sukces!\n"
          ],
          "name": "stdout"
        }
      ]
    },
    {
      "cell_type": "code",
      "metadata": {
        "deletable": false,
        "editable": false,
        "nbgrader": {
          "checksum": "8033723ba39fce582ca49113f724ef92",
          "grade": true,
          "grade_id": "sbfs20",
          "locked": true,
          "points": 1,
          "schema_version": 1,
          "solution": false
        },
        "id": "POkt_K_lgh7C",
        "colab": {
          "base_uri": "https://localhost:8080/"
        },
        "outputId": "4a0040e5-85cb-4527-d584-d9a788861fe3"
      },
      "source": [
        "_, env_20 = TB.get_instance(20)\n",
        "fr = (5, 3)\n",
        "to = (20, 1)\n",
        "p_test = PathFindingProblem(fr, to, env_20.env.desc)\n",
        "\n",
        "res_test = BFS(p_test)\n",
        "sol_test = get_solution(res_test)\n",
        "sol_corr = [2, 0, 2, 0, 2, 2, 2, 0, 0, 0, 0, 0, 0, 0, 0, 0, 2, 2, 0, 0, 3, 0, 3, 3, 3, 1, 1, 3, 3, 1, 3, 3, 0, 3, 0, 0, 0]\n",
        "assert len(sol_test) == 37, \"BFS niepoprawny\"\n",
        "assert sol_test == sol_corr\n",
        "print(\"Sukces!\")"
      ],
      "execution_count": null,
      "outputs": [
        {
          "output_type": "stream",
          "text": [
            "Sukces!\n"
          ],
          "name": "stdout"
        }
      ]
    },
    {
      "cell_type": "code",
      "metadata": {
        "deletable": false,
        "editable": false,
        "nbgrader": {
          "checksum": "f459edf144a0c6319b8b0f022073f60f",
          "grade": true,
          "grade_id": "s2",
          "locked": true,
          "points": 2,
          "schema_version": 1,
          "solution": false
        },
        "id": "QbI77JX1gh7C",
        "colab": {
          "base_uri": "https://localhost:8080/"
        },
        "outputId": "654b73ff-cc31-49ec-9889-565da6e9cf6d"
      },
      "source": [
        "_, env_100 = TB.get_instance(100)\n",
        "fr = (50, 42)\n",
        "to = (100, 100)\n",
        "p_test = PathFindingProblem(fr, to, env_100.env.desc)\n",
        "res_test = BFS(p_test)\n",
        "assert len(get_solution(res_test)) == 110\n",
        "print(\"Sukces!\")"
      ],
      "execution_count": null,
      "outputs": [
        {
          "output_type": "stream",
          "text": [
            "Sukces!\n"
          ],
          "name": "stdout"
        }
      ]
    },
    {
      "cell_type": "markdown",
      "metadata": {
        "id": "98oGpaPIgh7C"
      },
      "source": [
        "## Koniec części pierwszej -- sugeruję wysłać wcześniej"
      ]
    },
    {
      "cell_type": "markdown",
      "metadata": {
        "deletable": false,
        "editable": false,
        "nbgrader": {
          "checksum": "37bdf9065d79301cf3d78d82fd2f8da6",
          "grade": false,
          "grade_id": "cell-d50b5facd4ed51f7",
          "locked": true,
          "schema_version": 1,
          "solution": false
        },
        "id": "hjRgmOTsgh7D"
      },
      "source": [
        "---"
      ]
    },
    {
      "cell_type": "markdown",
      "metadata": {
        "id": "vcDMZddEgh7D"
      },
      "source": [
        "## Zadanie D: Przeszukiwanie A* i zachłanne\n",
        "\n",
        "Zaimplementuj funkcje realizujące przeszukiwanie metodą A* i zachłanną. Skorzystaj z metryki Manhattan (miejskiej). Wykorzystaj zaimplementowane wcześniej kolejki i funkcję search."
      ]
    },
    {
      "cell_type": "code",
      "metadata": {
        "deletable": false,
        "nbgrader": {
          "checksum": "5963594386c8d76eeba5a7a455225c6a",
          "grade": false,
          "grade_id": "heur",
          "locked": false,
          "schema_version": 1,
          "solution": true
        },
        "id": "DwawNgXdgh7D"
      },
      "source": [
        "class CostFunction(object):\n",
        "    \"\"\"Klasa zawierająca różne heurystyki dla jakiejś kategorii problemów.\"\"\"\n",
        "    def __init__(self, problem):\n",
        "        \"\"\"Konstruktor tworzy pomocniczy obiekt liczący funkcje kosztu.\"\"\"\n",
        "        self.problem = problem\n",
        "        \n",
        "    def manhattan(self, state):\n",
        "        \"\"\"Zwraca odledległość w metryce Manhattan (miejskiej) ze stanu `state`\n",
        "           do stanu docelowego w `self.problem` (typu PathFindingProblem)\"\"\"\n",
        "        # YOUR CODE HERE\n",
        "        x = state\n",
        "        y = self.problem.goal\n",
        "        return abs(x[0]-y[0]) + abs(x[1]-y[1])\n",
        "        \n",
        "    def __call__(self, node):\n",
        "        \"\"\"Metoda wywoływana jest, gdy obiektu używamy jak funkcji tj: `obj(node)`.\n",
        "           Tę metodę będzie wywoływać kolejka priorytetowa, gdy przekażemy do niej obiekt tego typu.\n",
        "           `node` - węzeł\n",
        "        \"\"\"\n",
        "        # np. return node.cost\n",
        "        return node.cost"
      ],
      "execution_count": null,
      "outputs": []
    },
    {
      "cell_type": "code",
      "metadata": {
        "deletable": false,
        "nbgrader": {
          "checksum": "caf83f75840d621594c48fb36dd7c06a",
          "grade": false,
          "grade_id": "cell-6ae1b02d45591e4d",
          "locked": false,
          "schema_version": 1,
          "solution": true
        },
        "id": "c2RwVeMogh7D"
      },
      "source": [
        "class CostFunctionForAstar(CostFunction):\n",
        "    def __call__(self, node):\n",
        "        \"\"\"Implementuje f. kosztu dla węzła w przeszukiwaniu A*.\"\"\"\n",
        "        # YOUR CODE HERE\n",
        "        return self.manhattan(node.state) + node.step_cost\n",
        "\n",
        "def astar(problem):\n",
        "    \"\"\"Wersja algorytmu A* przystosowanego do naszego problemu.\"\"\"\n",
        "    # YOUR CODE HERE\n",
        "    return search(problem, PriorityQueue(CostFunctionForAstar(problem)))\n",
        "\n",
        "    \n",
        "class CostFunctionForGreedy(CostFunction):\n",
        "    def __call__(self, node):\n",
        "        \"\"\"Implementuje f. kosztu dla węzła w przeszukiwaniu zachłannym.\"\"\"\n",
        "        # YOUR CODE HERE\n",
        "        return self.manhattan(node.state)\n",
        "    \n",
        "# Algorytm zachłanny kieruje się tylko wartością heurystyki\n",
        "def greedy(problem):\n",
        "    # YOUR CODE HERE\n",
        "    return search(problem, PriorityQueue(CostFunctionForGreedy(problem)))"
      ],
      "execution_count": null,
      "outputs": []
    },
    {
      "cell_type": "markdown",
      "metadata": {
        "id": "4LmNARlDgh7E"
      },
      "source": [
        "*Przykłady użycia*"
      ]
    },
    {
      "cell_type": "code",
      "metadata": {
        "id": "E3FfXUtjgh7E"
      },
      "source": [
        "# Środowisko z mapą rozmiaru 6\n",
        "_, env = TB.get_instance(6)\n",
        "problem = PathFindingProblem((4, 4), (6, 6), env.env.desc)"
      ],
      "execution_count": null,
      "outputs": []
    },
    {
      "cell_type": "code",
      "metadata": {
        "id": "JcbuPkxNgh7E",
        "colab": {
          "base_uri": "https://localhost:8080/"
        },
        "outputId": "a44ff185-36b0-40ac-eb6c-288dd2b206e2"
      },
      "source": [
        "costfn = CostFunctionForAstar(problem)\n",
        "print(\"Wartość funkcji kosztu na węźle startowym:\", costfn(Node(problem.initial)))"
      ],
      "execution_count": null,
      "outputs": [
        {
          "output_type": "stream",
          "text": [
            "Wartość funkcji kosztu na węźle startowym: 4\n"
          ],
          "name": "stdout"
        }
      ]
    },
    {
      "cell_type": "code",
      "metadata": {
        "id": "4IzYOjFmgh7E",
        "colab": {
          "base_uri": "https://localhost:8080/"
        },
        "outputId": "3e01a2ed-5d94-431c-f828-34ffaa8c311c"
      },
      "source": [
        "res = astar(problem)\n",
        "print(\"Rozwiązanie:\", res)\n",
        "print(\"Ruchy:\", get_solution(res))"
      ],
      "execution_count": null,
      "outputs": [
        {
          "output_type": "stream",
          "text": [
            "Rozwiązanie: 'Obecny stan: (6, 6), obecny koszt dojśćia: 10, stan poprzednika: (6, 5)'\n",
            "Ruchy: [3, 3, 3, 0, 0, 2, 2, 2, 2, 2]\n"
          ],
          "name": "stdout"
        }
      ]
    },
    {
      "cell_type": "code",
      "metadata": {
        "id": "pwGTB5mFgh7E",
        "colab": {
          "base_uri": "https://localhost:8080/"
        },
        "outputId": "82862a1a-34f0-48af-fcfc-691fc9e3db7a"
      },
      "source": [
        "res = greedy(problem)\n",
        "print(\"Rozwiązanie:\", res)\n",
        "print(\"Ruchy:\", get_solution(res))"
      ],
      "execution_count": null,
      "outputs": [
        {
          "output_type": "stream",
          "text": [
            "Rozwiązanie: 'Obecny stan: (6, 6), obecny koszt dojśćia: 10, stan poprzednika: (6, 5)'\n",
            "Ruchy: [3, 3, 3, 0, 0, 2, 2, 2, 2, 2]\n"
          ],
          "name": "stdout"
        }
      ]
    },
    {
      "cell_type": "code",
      "metadata": {
        "id": "WMepuqxagh7F"
      },
      "source": [
        "# Środowisko z mapą rozmiaru 20 i 100\n",
        "# 20: optymalne rozwiązanie ma 37 kroków\n",
        "_, env_20 = TB.get_instance(20)\n",
        "problem_20 = PathFindingProblem((5, 3), (20, 1), env_20.env.desc)\n",
        "_, env_100 = TB.get_instance(100)\n",
        "problem_100 = PathFindingProblem((50, 42), (100, 100), env_100.env.desc)"
      ],
      "execution_count": null,
      "outputs": []
    },
    {
      "cell_type": "code",
      "metadata": {
        "id": "ZpTGl-k0gh7F",
        "colab": {
          "base_uri": "https://localhost:8080/"
        },
        "outputId": "6876e57f-80bb-4f8c-d81d-c6c31a42b032"
      },
      "source": [
        "res = astar(problem_20)\n",
        "print(\"Rozwiązanie:\", res)\n",
        "print(\"Ruchy:\", get_solution(res))"
      ],
      "execution_count": null,
      "outputs": [
        {
          "output_type": "stream",
          "text": [
            "Rozwiązanie: 'Obecny stan: (20, 1), obecny koszt dojśćia: 37, stan poprzednika: (19, 1)'\n",
            "Ruchy: [2, 0, 2, 0, 2, 2, 2, 0, 0, 0, 0, 0, 0, 0, 0, 0, 2, 2, 0, 0, 3, 0, 3, 3, 3, 1, 1, 3, 3, 1, 3, 3, 0, 3, 0, 0, 0]\n"
          ],
          "name": "stdout"
        }
      ]
    },
    {
      "cell_type": "code",
      "metadata": {
        "id": "QV7RQ5e1gh7F"
      },
      "source": [
        "# Wolne komórki, twórz tutaj"
      ],
      "execution_count": null,
      "outputs": []
    },
    {
      "cell_type": "code",
      "metadata": {
        "id": "oLlI4aXYgh7F"
      },
      "source": [
        "sol_corr_gr = [3, 0, 0, 0, 2, 0, 2, 2, 0, 0, 2, 0, 2, 2, 0, 0, 0, 0, 2, 2, 0, 0, 3, 0, 3, 3, 3, 1, 1, 3, 3, 1, 3, 3, 0, 3, 0, 0, 0]\n",
        "res_test = greedy(p_test)\n",
        "sol_test = get_solution(res_test)"
      ],
      "execution_count": null,
      "outputs": []
    },
    {
      "cell_type": "markdown",
      "metadata": {
        "deletable": false,
        "editable": false,
        "nbgrader": {
          "checksum": "1c4d9e96f79643c6ebd3cf34fb16282a",
          "grade": false,
          "grade_id": "cell-1f919d35fd352a16",
          "locked": true,
          "schema_version": 1,
          "solution": false
        },
        "id": "zfxq25-qgh7G"
      },
      "source": [
        "### Testy jednostkowe do D"
      ]
    },
    {
      "cell_type": "code",
      "metadata": {
        "deletable": false,
        "editable": false,
        "nbgrader": {
          "checksum": "2672b9e8a293185475cf95444edee3ec",
          "grade": true,
          "grade_id": "search_astar",
          "locked": true,
          "points": 1,
          "schema_version": 1,
          "solution": false
        },
        "id": "I_nkSVdMgh7G"
      },
      "source": [
        "_, env_6 = TB.get_instance(6)\n",
        "fr = (4, 4)\n",
        "to = (6, 6)\n",
        "p_test = PathFindingProblem(fr, to, env_6.env.desc)\n",
        "\n",
        "res_test = astar(p_test)\n",
        "assert get_solution(res_test) == [3, 3, 3, 0, 0, 2, 2, 2, 2, 2], \"Astar niepoprawny\"\n",
        "# Rozwiązanie zachłanne też powinno znaleźć tę samą ścieżkę\n",
        "res_test = greedy(p_test)\n",
        "assert get_solution(res_test) == [3, 3, 3, 0, 0, 2, 2, 2, 2, 2], \"Greedy niepoprawny\""
      ],
      "execution_count": null,
      "outputs": []
    },
    {
      "cell_type": "code",
      "metadata": {
        "deletable": false,
        "editable": false,
        "nbgrader": {
          "checksum": "379b2d095eb68c5c6335ce810a239d60",
          "grade": true,
          "grade_id": "s5",
          "locked": true,
          "points": 1,
          "schema_version": 1,
          "solution": false
        },
        "id": "257s5HhLgh7G",
        "colab": {
          "base_uri": "https://localhost:8080/"
        },
        "outputId": "6b21078d-ee05-4c59-9090-32e9939b775b"
      },
      "source": [
        "_, env_20 = TB.get_instance(20)\n",
        "fr = (5, 3)\n",
        "to = (20, 1)\n",
        "p_test = PathFindingProblem(fr, to, env_20.env.desc)\n",
        "\n",
        "sol_corr = [2, 0, 2, 0, 2, 2, 2, 0, 0, 0, 0, 0, 0, 0, 0, 0, 2, 2, 0, 0, 3, 0, 3, 3, 3, 1, 1, 3, 3, 1, 3, 3, 0, 3, 0, 0, 0]\n",
        "res_test = astar(p_test)\n",
        "sol_test = get_solution(res_test)\n",
        "assert len(sol_test) == 37, \"AStar niepoprawny\"\n",
        "assert sol_test == sol_corr\n",
        "\n",
        "sol_corr_gr = [3, 0, 0, 0, 2, 0, 2, 2, 0, 0, 2, 0, 2, 2, 0, 0, 0, 0, 2, 2, 0, 0, 3, 0, 3, 3, 3, 1, 1, 3, 3, 1, 3, 3, 0, 3, 0, 0, 0]\n",
        "res_test = greedy(p_test)\n",
        "sol_test = get_solution(res_test)\n",
        "assert len(sol_test) == 39, \"Greedy niepoprawny\"\n",
        "assert sol_test == sol_corr_gr\n",
        "print(\"Sukces!\")"
      ],
      "execution_count": null,
      "outputs": [
        {
          "output_type": "stream",
          "text": [
            "Sukces!\n"
          ],
          "name": "stdout"
        }
      ]
    },
    {
      "cell_type": "code",
      "metadata": {
        "deletable": false,
        "editable": false,
        "nbgrader": {
          "checksum": "f794f783ed78d52518a523c6d6b08b61",
          "grade": true,
          "grade_id": "s3",
          "locked": true,
          "points": 2,
          "schema_version": 1,
          "solution": false
        },
        "id": "6ZcYE9zTgh7G"
      },
      "source": [
        "_, env_100 = TB.get_instance(100)\n",
        "fr = (50, 42)\n",
        "to = (100, 100)\n",
        "p_test = PathFindingProblem(fr, to, env_100.env.desc)\n",
        "res_test = astar(p_test)\n",
        "assert len(get_solution(res_test)) == 110, \"AStar niepoprawny\""
      ],
      "execution_count": null,
      "outputs": []
    },
    {
      "cell_type": "code",
      "metadata": {
        "deletable": false,
        "editable": false,
        "nbgrader": {
          "checksum": "4b554de7aba96681de4ad9dbca8d975c",
          "grade": true,
          "grade_id": "s4",
          "locked": true,
          "points": 2,
          "schema_version": 1,
          "solution": false
        },
        "id": "rXoy4aNUgh7H"
      },
      "source": [
        "_, env_100 = TB.get_instance(100)\n",
        "fr = (50, 42)\n",
        "to = (100, 100)\n",
        "p_test = PathFindingProblem(fr, to, env_100.env.desc)\n",
        "res_test = greedy(p_test)\n",
        "assert len(get_solution(res_test)) >= 110, \"Greedy niepoprawny\""
      ],
      "execution_count": null,
      "outputs": []
    },
    {
      "cell_type": "markdown",
      "metadata": {
        "id": "Nntc_KTagh7H"
      },
      "source": [
        "# Zadanie E: porównanie\n",
        "\n",
        "Przeanalizuj, ile czasu rzeczywistego zajmuje poszczególnym algorytmom znalezienie trasy, ile stanów było odwiedzonych oraz jaki był maksymalny rozmiar kolejki:\n",
        "- z punktu `(50, 42)` do `(100, 100)` w środowisku o rozmiarze 100x100. (Długość optymalnego rozwiązania to 110.)\n",
        "- z punktu `(1, 1)` do `(20, 20)` w środowisku o rozmiarze 20x20.\n",
        "\n",
        "Dla powyższego problemu 100x100: przeanalizuj wpływ na czas wykonania wynikły z użycia wolnych implementacji kolejek: ``SlowFIFOQueue``, ``SlowPriorityQueue``.\n",
        "Jakie są zalety, a jakie wady algorytmu zachłannego?\n",
        "\n",
        "Przydatne będzie magiczna operacja `%timeit`. Np.:\n",
        "```python\n",
        "%timeit BFS(problem)\n",
        "\n",
        "X ms ± Y µs per loop (mean ± std. dev. of 7 runs, Z loops each)\n",
        "```\n",
        "które wskazuje przeciętny czas wykonania X ms, z odchyleniem standardowym Y mikrosekund przy wykonywaniu funkcji w grupach po Z razy.\n",
        "\n",
        "Zdaj raport w odpowiednim polu."
      ]
    },
    {
      "cell_type": "code",
      "metadata": {
        "id": "bPHSOEHpgh7H"
      },
      "source": [
        "_, env = TB.get_instance(100)\n",
        "first_problem = PathFindingProblem((50, 42), (100, 100), env.env.desc)\n",
        "\n",
        "_, env = TB.get_instance(20)\n",
        "second_problem = PathFindingProblem((1, 1), (20, 20), env.env.desc)"
      ],
      "execution_count": null,
      "outputs": []
    },
    {
      "cell_type": "code",
      "metadata": {
        "id": "37Imngnwgh7H",
        "colab": {
          "base_uri": "https://localhost:8080/"
        },
        "outputId": "e55f4624-0a53-4059-92ed-f1c551f7ed95"
      },
      "source": [
        "%timeit BFS(first_problem)"
      ],
      "execution_count": null,
      "outputs": [
        {
          "output_type": "stream",
          "text": [
            "1 loop, best of 5: 736 ms per loop\n"
          ],
          "name": "stdout"
        }
      ]
    },
    {
      "cell_type": "code",
      "metadata": {
        "deletable": false,
        "nbgrader": {
          "checksum": "36cd033596d3fb500900316ff44770a4",
          "grade": false,
          "grade_id": "cell-b11ffe00279f3a2b",
          "locked": false,
          "schema_version": 1,
          "solution": true
        },
        "id": "iEtbwFBDgh7H"
      },
      "source": [
        "# YOUR CODE HERE\n",
        "def SlowBFS(problem):\n",
        "  return search(problem, SlowFIFOQueue())\n",
        "\n",
        "def SlowAstar(problem):\n",
        "  return search(problem, SlowPriorityQueue(CostFunctionForAstar(problem)))\n",
        "\n",
        "def SlowGreedy(problem):\n",
        "  return search(problem, SlowPriorityQueue(CostFunctionForGreedy(problem)))"
      ],
      "execution_count": null,
      "outputs": []
    },
    {
      "cell_type": "code",
      "metadata": {
        "id": "uN_jsxDZgh7I",
        "colab": {
          "base_uri": "https://localhost:8080/"
        },
        "outputId": "4bd73e81-6978-4658-e306-6bbb73160e5e"
      },
      "source": [
        "print('BFS')\n",
        "print('mapa 100x100')\n",
        "%timeit BFS(first_problem)\n",
        "print('odwiedzone stany: ' + str(len(visited)) + ', maksymalny rozmiar kolejki: ' + str(max_len))\n",
        "print('mapa 20x20')\n",
        "%timeit BFS(second_problem)\n",
        "print('odwiedzone stany:  ' + str(len(visited)) + ', maksymalny rozmiar kolejki: ' + str(max_len))\n",
        "print()\n",
        "print('A*')\n",
        "print('mapa 100x100')\n",
        "%timeit astar(first_problem)\n",
        "print('odwiedzone stany:  ' + str(len(visited)) + ', maksymalny rozmiar kolejki: ' + str(max_len))\n",
        "print('mapa 20x20')\n",
        "%timeit astar(second_problem)\n",
        "print('odwiedzone stany:  ' + str(len(visited)) + ', maksymalny rozmiar kolejki: ' + str(max_len))\n",
        "print()\n",
        "print('Greedy')\n",
        "print('mapa 100x100')\n",
        "%timeit greedy(first_problem)\n",
        "print('lodwiedzone stany:  ' + str(len(visited)) + ', maksymalny rozmiar kolejki: ' + str(max_len))\n",
        "print('mapa 20x20')\n",
        "%timeit greedy(second_problem)\n",
        "print('odwiedzone stany:  ' + str(len(visited)) + ', maksymalny rozmiar kolejki: ' + str(max_len))\n",
        "print()\n",
        "\n",
        "print('Slow')\n",
        "%timeit SlowBFS(first_problem)\n",
        "%timeit SlowAstar(first_problem)\n",
        "%timeit SlowGreedy(first_problem)"
      ],
      "execution_count": null,
      "outputs": [
        {
          "output_type": "stream",
          "text": [
            "BFS\n",
            "mapa 100x100\n",
            "1 loop, best of 5: 752 ms per loop\n",
            "odwiedzone stany: 4159, maksymalny rozmiar kolejki: 87\n",
            "mapa 20x20\n",
            "100 loops, best of 5: 2.2 ms per loop\n",
            "odwiedzone stany:  165, maksymalny rozmiar kolejki: 9\n",
            "\n",
            "A*\n",
            "mapa 100x100\n",
            "100 loops, best of 5: 10.9 ms per loop\n",
            "odwiedzone stany:  431, maksymalny rozmiar kolejki: 58\n",
            "mapa 20x20\n",
            "1000 loops, best of 5: 1.08 ms per loop\n",
            "odwiedzone stany:  90, maksymalny rozmiar kolejki: 18\n",
            "\n",
            "Greedy\n",
            "mapa 100x100\n",
            "100 loops, best of 5: 4.57 ms per loop\n",
            "lodwiedzone stany:  268, maksymalny rozmiar kolejki: 61\n",
            "mapa 20x20\n",
            "1000 loops, best of 5: 664 µs per loop\n",
            "odwiedzone stany:  67, maksymalny rozmiar kolejki: 19\n",
            "\n",
            "Slow\n",
            "1 loop, best of 5: 776 ms per loop\n",
            "100 loops, best of 5: 13.9 ms per loop\n",
            "100 loops, best of 5: 5.13 ms per loop\n"
          ],
          "name": "stdout"
        }
      ]
    },
    {
      "cell_type": "markdown",
      "metadata": {
        "deletable": false,
        "editable": false,
        "nbgrader": {
          "checksum": "6fcc3bbd7a0e5fe52ccd97554a03fcc7",
          "grade": false,
          "grade_id": "zdaj",
          "locked": true,
          "schema_version": 1,
          "solution": false
        },
        "id": "38a2QyQWgh7I"
      },
      "source": [
        "Zdaj raport poniżej:"
      ]
    },
    {
      "cell_type": "markdown",
      "metadata": {
        "collapsed": true,
        "deletable": false,
        "nbgrader": {
          "checksum": "3ce41411ee8ea20442636b84d1c25e2d",
          "grade": true,
          "grade_id": "raport",
          "locked": false,
          "points": 5,
          "schema_version": 1,
          "solution": true
        },
        "id": "ixWaioc0gh7I"
      },
      "source": [
        "Algorytmy BFS, A* i zachłanny są kolejno coraz bardziej wydajne czasowo, oraz odwiedzają coraz mniej stanów. Maksymalny rozmiar kolejki wydaje się być najdłuższy w algorytmie BFS, natomiast przy algorytmach A* i zachłannego są one porównywalne. \n",
        "\n",
        "Jeżeli chodzi o czas wykonania implementacji wolnych kolejek, największe pogorszenie widzimy w algorytmie A*, natomiast dla dówch pozostałych różnice są nieznaczne. \n",
        "\n",
        "Wychodzi na to, że algorytmy zachłanne są bardzo skuteczne w problemach typu \"znajdowanie najkrótszej ścieżki\", ponieważ kierują się najbardziej korzystną opcją w danym kroku. Niestety takie sporzjenie na problem nie zawsze zwraca jednak optymalne rozwiązanie. Czasami trzeba uwzględnić informacje dotyczące ogólnego problemu, a nie tylko danego kroku. Natomiast w tym przypadku algorytm zachłanny działa najszybciej, daltego to właśnie jego użyję w zadaniu F."
      ]
    },
    {
      "cell_type": "markdown",
      "metadata": {
        "collapsed": true,
        "id": "DgpmPy4Fgh7I"
      },
      "source": [
        "# Zadanie F-inałowe: wygeneruj pełny plan\n",
        "Wygeneruj pełny plan rozwiązania dla danego stanu w danym środowisku Taxi."
      ]
    },
    {
      "cell_type": "code",
      "metadata": {
        "deletable": false,
        "nbgrader": {
          "checksum": "ffbe1e3b6d94e33cafba729b960739ec",
          "grade": false,
          "grade_id": "plan",
          "locked": false,
          "schema_version": 1,
          "solution": true
        },
        "id": "AreOMcrEgh7I"
      },
      "source": [
        "def generate_plan(state, env):\n",
        "    \"\"\"Dostaje zakodowany stan i środowisko. Generuje najlepszą metodą i zwraca plan akcji agenta Taxi (0-5).\"\"\"\n",
        "    # YOUR CODE HERE\n",
        "    # dekodowanie\n",
        "    row, col, client, destination = env.env.decode(state)\n",
        "    locations = env.env.locs\n",
        "    board = env.env.desc\n",
        "    go_to_client = PathFindingProblem((row, col), locations[client], board)\n",
        "    # w ramach sprawdzania\n",
        "    print(\"stan początkowy: \" + str((row, col)))\n",
        "    print(\"klient: \" + str(locations[client])) \n",
        "    print(\"cel: \" + str(locations[destination]))\n",
        "    # jedziemy po klienta \n",
        "    result = list()\n",
        "    res1 = astar(go_to_client)\n",
        "    result += get_solution(res1)\n",
        "    result.append(4) # przyjechaliśmy po klienta, więc akcja 4 (Pickup)\n",
        "    # następnie z klientem do celu\n",
        "    go_to_goal = PathFindingProblem(res1.state, locations[destination], board)\n",
        "    res2 = astar(go_to_goal)\n",
        "    result += get_solution(res2)\n",
        "    result.append(5) # 5 = Dropoff\n",
        "    return result\n",
        "                           "
      ],
      "execution_count": null,
      "outputs": []
    },
    {
      "cell_type": "code",
      "metadata": {
        "id": "Kbm4QbdUgh7J",
        "colab": {
          "base_uri": "https://localhost:8080/"
        },
        "outputId": "47e3bd08-ffd8-4233-aab5-9b67c33fded4"
      },
      "source": [
        "state, env_6 = TB.get_instance(6)\n",
        "print(env_6.render())\n",
        "print(\"Przykładowy plan rozwiązania:\")\n",
        "print(generate_plan(state, env_6))"
      ],
      "execution_count": null,
      "outputs": [
        {
          "output_type": "stream",
          "text": [
            "xxxxxxxx\n",
            "xRxxx.Gx\n",
            "x\u001b[43m.\u001b[0m....xx\n",
            "x..xx.xx\n",
            "x.....xx\n",
            "x.xxxxxx\n",
            "x\u001b[34;1mY\u001b[0m....\u001b[35mB\u001b[0mx\n",
            "xxxxxxxx\n",
            "\n",
            "None\n",
            "Przykładowy plan rozwiązania:\n",
            "stan początkowy: (2, 1)\n",
            "klient: (6, 1)\n",
            "cel: (6, 6)\n",
            "[0, 0, 0, 0, 4, 2, 2, 2, 2, 2, 5]\n"
          ],
          "name": "stdout"
        }
      ]
    },
    {
      "cell_type": "markdown",
      "metadata": {
        "id": "8vyGBwj3gh7J"
      },
      "source": [
        "## Obserwacja\n",
        "Czas na świętowanie! Teraz możesz obserwować, jak zachowuje się Twój agent.\n",
        "Użyj ```state, env_6 = TB.get_instance(rozmiar)``` aby dostać losowe zadanie o zadanym `rozmiar`ze.\n",
        "Wykonuj kolejne akcje agentem i wyrenderuj planszę po każdym ruchu.\n",
        "Użyj ``TB.eval_plan(plan, env)`` by sprawdzić zysk uzyskany przez agenta rozwiązania.\n"
      ]
    },
    {
      "cell_type": "code",
      "metadata": {
        "id": "NvNLsQSPgh7J"
      },
      "source": [
        ""
      ],
      "execution_count": null,
      "outputs": []
    },
    {
      "cell_type": "code",
      "metadata": {
        "id": "m2x_prgRgh7J"
      },
      "source": [
        ""
      ],
      "execution_count": null,
      "outputs": []
    },
    {
      "cell_type": "markdown",
      "metadata": {
        "id": "bti6wy5dgh7J"
      },
      "source": [
        "## Testy generate_plan"
      ]
    },
    {
      "cell_type": "code",
      "metadata": {
        "deletable": false,
        "editable": false,
        "nbgrader": {
          "checksum": "b8f4882acef4c4d30cf082efd62f8578",
          "grade": true,
          "grade_id": "plan1",
          "locked": true,
          "points": 10,
          "schema_version": 1,
          "solution": false
        },
        "id": "TWto_e9tgh7K",
        "colab": {
          "base_uri": "https://localhost:8080/"
        },
        "outputId": "2e38b9fb-a4bf-46fb-d21e-40b95c4daf45"
      },
      "source": [
        "st_test, env_100 = TB.get_instance(100, 31)\n",
        "res_test = TB.eval_plan(generate_plan(st_test, env_100), env_100)\n",
        "print(res_test)\n",
        "assert res_test == 688, \"Poprawne rozwiązanie na tym seedzie ma zysk 688\"\n",
        "print(\"Sukces!\")"
      ],
      "execution_count": null,
      "outputs": [
        {
          "output_type": "stream",
          "text": [
            "stan początkowy: (50, 6)\n",
            "klient: (100, 100)\n",
            "cel: (1, 100)\n",
            "688\n",
            "Sukces!\n"
          ],
          "name": "stdout"
        }
      ]
    },
    {
      "cell_type": "code",
      "metadata": {
        "id": "e0uAKTbDgh7K",
        "colab": {
          "base_uri": "https://localhost:8080/"
        },
        "outputId": "0e57f827-7e58-493b-8cde-29b431d95977"
      },
      "source": [
        "st_test, env_100 = TB.get_instance(100, 42)\n",
        "res_test = TB.eval_plan(generate_plan(st_test, env_100), env_100)\n",
        "print(res_test)\n",
        "assert res_test == 694, \"Poprawne rozwiązanie na tym seedzie ma zysk 688\"\n",
        "print(\"Sukces!\")"
      ],
      "execution_count": null,
      "outputs": [
        {
          "output_type": "stream",
          "text": [
            "stan początkowy: (39, 5)\n",
            "klient: (100, 1)\n",
            "cel: (1, 100)\n",
            "694\n",
            "Sukces!\n"
          ],
          "name": "stdout"
        }
      ]
    },
    {
      "cell_type": "markdown",
      "metadata": {
        "id": "ipkMFxzBgh7K"
      },
      "source": [
        "# Bonus (nieobowiązkowy)\n",
        "Zaimplementuj klasę TaxiProblem, która będzie przyjmowała stan obecny i stan docelowy prosto ze środowiska: (y, x, poz_klienta, poz_celu). Jej rozwiązaniem będzie całe rozwiązanie w środowisku. Pamiętaj, że gdy klient jest w taksówce, jego pozycja wynosi 4 (env.env.decode(...)[2] == 4).\n",
        "Dobierz odpowiednio koszty i stwórz heurystykę, która będzie prowadziła do rozwiązania.\n",
        "Ostateczny zysk nie powinien różnić się od poprzedniego rozwiązania."
      ]
    },
    {
      "cell_type": "code",
      "metadata": {
        "deletable": false,
        "nbgrader": {
          "checksum": "95dab8da173d80c14d7663fb39953c7a",
          "grade": false,
          "grade_id": "tx",
          "locked": false,
          "schema_version": 1,
          "solution": true
        },
        "id": "_0Od0_DUgh7L"
      },
      "source": [
        "class TaxiProblem(Problem):\n",
        "    \"\"\"Klasa problemu taksówki.\"\"\"\n",
        "\n",
        "    def __init__(self, initial, env):\n",
        "        \"\"\"Parametry:\n",
        "           - initial: zdekodowany stan (y, x, klient, cel),\n",
        "           - env: środowisko Taxi-*.\"\"\"\n",
        "        # YOUR CODE HERE\n",
        "        raise NotImplementedError()\n",
        "\n",
        "    def actions(self, state):\n",
        "        \"\"\"Zwraca listę akcji ze stanu `state`.\n",
        "           Powinny łatwo tłumaczyć się na akcje w środowisku taksówki.\"\"\"\n",
        "        \n",
        "        # YOUR CODE HERE\n",
        "        raise NotImplementedError()\n",
        "        \n",
        "    def result(self, state, action):\n",
        "        \"Stan, który jest rezultatem wykonania akcji `action` na stanie `state`.\"\n",
        "        # YOUR CODE HERE\n",
        "        raise NotImplementedError()\n",
        "\n",
        "    def is_goal(self, state):\n",
        "        \"Zwraca `True`, gdy stan jest rozwiązaniem.\" \n",
        "        # YOUR CODE HERE\n",
        "        raise NotImplementedError()\n",
        "\n",
        "    def step_cost(self, state, action, result=None):\n",
        "        \"Koszt wykonania akcji `action` ze stanu `state`. `result` może być pomocniczne, gdy go znamy.\"\n",
        "        # YOUR CODE HERE\n",
        "        raise NotImplementedError()"
      ],
      "execution_count": null,
      "outputs": []
    },
    {
      "cell_type": "code",
      "metadata": {
        "deletable": false,
        "nbgrader": {
          "checksum": "75b48274171beb03ee435869b2fb39ae",
          "grade": false,
          "grade_id": "txh",
          "locked": false,
          "schema_version": 1,
          "solution": true
        },
        "id": "rCrGauymgh7L",
        "colab": {
          "base_uri": "https://localhost:8080/",
          "height": 198
        },
        "outputId": "39854da7-a6f6-4bce-8da3-5f3e6fbcf8b0"
      },
      "source": [
        "# Usuń rzucanie wyjątku, jeśli nie chcesz rozwiązywać.\n",
        "# Heurystyki\n",
        "# YOUR CODE HERE\n",
        "raise NotImplementedError()"
      ],
      "execution_count": null,
      "outputs": [
        {
          "output_type": "error",
          "ename": "NotImplementedError",
          "evalue": "ignored",
          "traceback": [
            "\u001b[0;31m---------------------------------------------------------------------------\u001b[0m",
            "\u001b[0;31mNotImplementedError\u001b[0m                       Traceback (most recent call last)",
            "\u001b[0;32m<ipython-input-78-b3e0023aa126>\u001b[0m in \u001b[0;36m<module>\u001b[0;34m()\u001b[0m\n\u001b[1;32m      2\u001b[0m \u001b[0;31m# Heurystyki\u001b[0m\u001b[0;34m\u001b[0m\u001b[0;34m\u001b[0m\u001b[0;34m\u001b[0m\u001b[0m\n\u001b[1;32m      3\u001b[0m \u001b[0;31m# YOUR CODE HERE\u001b[0m\u001b[0;34m\u001b[0m\u001b[0;34m\u001b[0m\u001b[0;34m\u001b[0m\u001b[0m\n\u001b[0;32m----> 4\u001b[0;31m \u001b[0;32mraise\u001b[0m \u001b[0mNotImplementedError\u001b[0m\u001b[0;34m(\u001b[0m\u001b[0;34m)\u001b[0m\u001b[0;34m\u001b[0m\u001b[0;34m\u001b[0m\u001b[0m\n\u001b[0m",
            "\u001b[0;31mNotImplementedError\u001b[0m: "
          ]
        }
      ]
    },
    {
      "cell_type": "code",
      "metadata": {
        "id": "7sIs_aZ_gh7L"
      },
      "source": [
        "#state, env = TB.get_instance(6, 42)\n",
        "#problem = TaxiProblem(env.env.decode(state), env)\n",
        "#plan = get_solution(???astar(problem))\n",
        "#print(plan)\n",
        "#TB.eval_plan(plan, env, verbosity=2)"
      ],
      "execution_count": null,
      "outputs": []
    },
    {
      "cell_type": "code",
      "metadata": {
        "id": "SK3vDArsgh7L"
      },
      "source": [
        "#state, env = TB.get_instance(100, 31)\n",
        "#problem = TaxiProblem(env.env.decode(state), env)\n",
        "#plan = get_solution(???astar(problem???))\n",
        "#result = TB.eval_plan(plan, env, 0)\n",
        "#print(\"Result == 688?\", result == 688, result)"
      ],
      "execution_count": null,
      "outputs": []
    },
    {
      "cell_type": "code",
      "metadata": {
        "id": "7MU8CCgwgh7M"
      },
      "source": [
        ""
      ],
      "execution_count": null,
      "outputs": []
    },
    {
      "cell_type": "markdown",
      "metadata": {
        "id": "GfvN_Rmngh7M"
      },
      "source": [
        "### Sprawdź, jak zachowuje się Twoja heurystyka\n",
        "Ile mniej stanów odwiedza? Jak szybko działa? Czy jest poprawna (dopuszczalna i spójna)? Możesz to sprawdzić porównując rezultat na wielu przykładach."
      ]
    },
    {
      "cell_type": "code",
      "metadata": {
        "id": "PLOMeSDagh7M"
      },
      "source": [
        ""
      ],
      "execution_count": null,
      "outputs": []
    },
    {
      "cell_type": "markdown",
      "metadata": {
        "id": "_OplpqhVgh7M"
      },
      "source": [
        "# Na koniec\n",
        "Pamiętaj, aby Twój notebook, którego prześlesz, wykonywał się w całości od początku do końca po kliknięciu \"Run all\". Zresetuj kernel, aby upewnić się, że tak właśnie jest.\n",
        "\n",
        "Pobierz swój notebook w następujący sposób i wgraj go przez Moodle.\n",
        "\n",
        "![](https://www.mimuw.edu.pl/~mm319369/priv/d73890416bec03ff3e2b3756af8c941c/images/download.png)"
      ]
    }
  ]
}